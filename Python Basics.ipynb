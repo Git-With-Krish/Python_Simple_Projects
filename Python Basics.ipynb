{
 "cells": [
  {
   "cell_type": "markdown",
   "metadata": {},
   "source": [
    "# Python Practice"
   ]
  },
  {
   "cell_type": "markdown",
   "metadata": {},
   "source": [
    "Variables - Use Cases"
   ]
  },
  {
   "cell_type": "code",
   "execution_count": 1,
   "metadata": {},
   "outputs": [
    {
     "name": "stdout",
     "output_type": "stream",
     "text": [
      "My first print statement :)\n",
      "My second print statement :P\n"
     ]
    }
   ],
   "source": [
    "message='My first print statement :)'\n",
    "print(message)\n",
    "\n",
    "message = 'My second print statement :P'\n",
    "print(message)"
   ]
  },
  {
   "cell_type": "code",
   "execution_count": 2,
   "metadata": {},
   "outputs": [
    {
     "name": "stdout",
     "output_type": "stream",
     "text": [
      "Hello Eric, would you like to learn some Python today?\n"
     ]
    }
   ],
   "source": [
    "name = 'Eric'\n",
    "print('Hello'+\" \"+name+ ', would you like to learn some Python today?')"
   ]
  },
  {
   "cell_type": "code",
   "execution_count": 3,
   "metadata": {},
   "outputs": [
    {
     "name": "stdout",
     "output_type": "stream",
     "text": [
      "Eric --> Titlecase\n",
      "ERIC --> Uppercase\n",
      "eric --> Lowercase\n"
     ]
    }
   ],
   "source": [
    "name = 'eRiC'\n",
    "print(name.title(), '--> Titlecase')\n",
    "print(name.upper(), '--> Uppercase')\n",
    "print(name.lower(), '--> Lowercase')"
   ]
  },
  {
   "cell_type": "code",
   "execution_count": 4,
   "metadata": {},
   "outputs": [
    {
     "name": "stdout",
     "output_type": "stream",
     "text": [
      "Albert Einstein once said, “A person who never made a mistake never tried anything new.”\n"
     ]
    }
   ],
   "source": [
    "print('Albert Einstein once said, “A person who never made a mistake never tried anything new.”')"
   ]
  },
  {
   "cell_type": "code",
   "execution_count": 5,
   "metadata": {},
   "outputs": [
    {
     "name": "stdout",
     "output_type": "stream",
     "text": [
      "Albert Einstein once said, “A person who never made a mistake never tried anything new.”\n"
     ]
    }
   ],
   "source": [
    "famous_person = 'Albert Einstein'\n",
    "message = famous_person+\" \"+'once said, “A person who never made a mistake never tried anything new.”'\n",
    "print(message)"
   ]
  },
  {
   "cell_type": "code",
   "execution_count": 6,
   "metadata": {},
   "outputs": [
    {
     "name": "stdout",
     "output_type": "stream",
     "text": [
      " Python  --> Before Striping\n",
      "Python  --> Left Strip\n",
      " Python --> Right Strip\n",
      "Python --> Full Strip\n"
     ]
    }
   ],
   "source": [
    "strip_name = ' Python '\n",
    "print(strip_name, '--> Before Striping')\n",
    "print(strip_name.lstrip(), '--> Left Strip')\n",
    "print(strip_name.rstrip(), '--> Right Strip')\n",
    "print(strip_name.strip(), '--> Full Strip')"
   ]
  },
  {
   "cell_type": "code",
   "execution_count": 7,
   "metadata": {},
   "outputs": [
    {
     "name": "stdout",
     "output_type": "stream",
     "text": [
      "8\n",
      "2\n",
      "15\n",
      "1.6666666666666667\n"
     ]
    }
   ],
   "source": [
    "print(5+3)\n",
    "print(5-3)\n",
    "print(5*3)\n",
    "print(5/3)"
   ]
  },
  {
   "cell_type": "markdown",
   "metadata": {},
   "source": [
    "-------------------------------------------------------------------------"
   ]
  },
  {
   "cell_type": "markdown",
   "metadata": {},
   "source": [
    "Lists and for loops - Use Cases"
   ]
  },
  {
   "cell_type": "code",
   "execution_count": 8,
   "metadata": {},
   "outputs": [
    {
     "name": "stdout",
     "output_type": "stream",
     "text": [
      "VK\n",
      "SS\n"
     ]
    }
   ],
   "source": [
    "names = ['GK','SK','SS','VK']\n",
    "print(names[3])\n",
    "print(names[2])"
   ]
  },
  {
   "cell_type": "code",
   "execution_count": 9,
   "metadata": {},
   "outputs": [
    {
     "name": "stdout",
     "output_type": "stream",
     "text": [
      "My favourite player is VK.\n"
     ]
    }
   ],
   "source": [
    "print(\"My favourite player is \"+names[3]+\".\")"
   ]
  },
  {
   "cell_type": "code",
   "execution_count": 10,
   "metadata": {},
   "outputs": [
    {
     "name": "stdout",
     "output_type": "stream",
     "text": [
      "Hello Person 1, you're welcome for the dinner\n",
      "Hello Person 2, you're welcome for the dinner\n",
      "Hello Person 3, you're welcome for the dinner\n"
     ]
    }
   ],
   "source": [
    "invites = ['Person 1', 'Person 2', 'Person 3']\n",
    "print('Hello ' +invites[0]+ \", you're welcome for the dinner\")\n",
    "print('Hello ' +invites[1]+ \", you're welcome for the dinner\")\n",
    "print('Hello ' +invites[2]+ \", you're welcome for the dinner\")"
   ]
  },
  {
   "cell_type": "code",
   "execution_count": 11,
   "metadata": {},
   "outputs": [
    {
     "name": "stdout",
     "output_type": "stream",
     "text": [
      "Hello all, Person 3 is not available for the dinner\n",
      "Modified List: ['Person 1', 'Person 2', 'Person 4']\n",
      "Hello Person 1, you're welcome for the dinner\n",
      "Hello Person 2, you're welcome for the dinner\n",
      "Hello Person 4, you're welcome for the dinner\n"
     ]
    }
   ],
   "source": [
    "print('Hello all, ' +invites[2]+ \" is not available for the dinner\")\n",
    "invites[2]=\"Person 4\"\n",
    "modified_invites = invites\n",
    "print(\"Modified List:\", modified_invites)\n",
    "print('Hello ' +modified_invites[0]+ \", you're welcome for the dinner\")\n",
    "print('Hello ' +modified_invites[1]+ \", you're welcome for the dinner\")\n",
    "print('Hello ' +modified_invites[2]+ \", you're welcome for the dinner\")"
   ]
  },
  {
   "cell_type": "code",
   "execution_count": 12,
   "metadata": {},
   "outputs": [
    {
     "name": "stdout",
     "output_type": "stream",
     "text": [
      "Hello Peeps!, we have a big dinner table for us for the dinner :)\n",
      "['Person 5', 'Person 1', 'Person 2', 'Person 4']\n"
     ]
    }
   ],
   "source": [
    "print(\"Hello Peeps!, we have a big dinner table for us for the dinner :)\")\n",
    "modified_invites.insert(0,\"Person 5\")\n",
    "print(modified_invites)"
   ]
  },
  {
   "cell_type": "code",
   "execution_count": 13,
   "metadata": {},
   "outputs": [
    {
     "name": "stdout",
     "output_type": "stream",
     "text": [
      "['Person 5', 'Person 6', 'Person 1', 'Person 2', 'Person 4']\n"
     ]
    }
   ],
   "source": [
    "modified_invites.insert(1,\"Person 6\")\n",
    "print(modified_invites)"
   ]
  },
  {
   "cell_type": "code",
   "execution_count": 14,
   "metadata": {},
   "outputs": [
    {
     "name": "stdout",
     "output_type": "stream",
     "text": [
      "['Person 5', 'Person 6', 'Person 1', 'Person 2', 'Person 4', 'Person 7']\n"
     ]
    }
   ],
   "source": [
    "modified_invites.append(\"Person 7\")\n",
    "print(modified_invites)"
   ]
  },
  {
   "cell_type": "code",
   "execution_count": 15,
   "metadata": {},
   "outputs": [
    {
     "name": "stdout",
     "output_type": "stream",
     "text": [
      "New Invites:  ['Person 5', 'Person 6', 'Person 1', 'Person 2', 'Person 4', 'Person 7']\n"
     ]
    }
   ],
   "source": [
    "new_modified_invites = modified_invites\n",
    "print(\"New Invites: \", new_modified_invites)"
   ]
  },
  {
   "cell_type": "code",
   "execution_count": 16,
   "metadata": {},
   "outputs": [
    {
     "name": "stdout",
     "output_type": "stream",
     "text": [
      "Hello Person 5, you're welcome for the dinner\n",
      "Hello Person 6, you're welcome for the dinner\n",
      "Hello Person 1, you're welcome for the dinner\n",
      "Hello Person 2, you're welcome for the dinner\n",
      "Hello Person 4, you're welcome for the dinner\n",
      "Hello Person 7, you're welcome for the dinner\n"
     ]
    }
   ],
   "source": [
    "print('Hello ' +modified_invites[0]+ \", you're welcome for the dinner\")\n",
    "print('Hello ' +modified_invites[1]+ \", you're welcome for the dinner\")\n",
    "print('Hello ' +modified_invites[2]+ \", you're welcome for the dinner\")\n",
    "print('Hello ' +modified_invites[3]+ \", you're welcome for the dinner\")\n",
    "print('Hello ' +modified_invites[4]+ \", you're welcome for the dinner\")\n",
    "print('Hello ' +modified_invites[5]+ \", you're welcome for the dinner\")"
   ]
  },
  {
   "cell_type": "code",
   "execution_count": 17,
   "metadata": {},
   "outputs": [
    {
     "name": "stdout",
     "output_type": "stream",
     "text": [
      "Hello All, Sorry, I can invite only two people for dinner\n",
      "Sorry Person 7 ,can't invite you for dinner\n"
     ]
    }
   ],
   "source": [
    "print(\"Hello All, Sorry, I can invite only two people for dinner\")\n",
    "pop1 = new_modified_invites.pop()\n",
    "print(\"Sorry \"+pop1+\" ,can't invite you for dinner\")"
   ]
  },
  {
   "cell_type": "code",
   "execution_count": 18,
   "metadata": {},
   "outputs": [
    {
     "name": "stdout",
     "output_type": "stream",
     "text": [
      "Sorry Person 4 ,can't invite you for dinner\n"
     ]
    }
   ],
   "source": [
    "pop2 = new_modified_invites.pop()\n",
    "print(\"Sorry \"+pop2+\" ,can't invite you for dinner\")"
   ]
  },
  {
   "cell_type": "code",
   "execution_count": 19,
   "metadata": {},
   "outputs": [
    {
     "name": "stdout",
     "output_type": "stream",
     "text": [
      "Sorry Person 2 ,can't invite you for dinner\n"
     ]
    }
   ],
   "source": [
    "pop3 = new_modified_invites.pop()\n",
    "print(\"Sorry \"+pop3+\" ,can't invite you for dinner\")"
   ]
  },
  {
   "cell_type": "code",
   "execution_count": 20,
   "metadata": {},
   "outputs": [
    {
     "name": "stdout",
     "output_type": "stream",
     "text": [
      "Sorry Person 1 ,can't invite you for dinner\n"
     ]
    }
   ],
   "source": [
    "pop4 = new_modified_invites.pop()\n",
    "print(\"Sorry \"+pop4+\" ,can't invite you for dinner\")"
   ]
  },
  {
   "cell_type": "code",
   "execution_count": 21,
   "metadata": {},
   "outputs": [
    {
     "name": "stdout",
     "output_type": "stream",
     "text": [
      "Remaining Invites:  ['Person 5', 'Person 6']\n"
     ]
    }
   ],
   "source": [
    "print('Remaining Invites: ',new_modified_invites)"
   ]
  },
  {
   "cell_type": "code",
   "execution_count": 22,
   "metadata": {},
   "outputs": [
    {
     "name": "stdout",
     "output_type": "stream",
     "text": [
      "Hello Person 5, you're welcome for the dinner\n",
      "Hello Person 6, you're welcome for the dinner\n"
     ]
    }
   ],
   "source": [
    "print('Hello ' +new_modified_invites[0]+ \", you're welcome for the dinner\")\n",
    "print('Hello ' +new_modified_invites[1]+ \", you're welcome for the dinner\")"
   ]
  },
  {
   "cell_type": "code",
   "execution_count": 23,
   "metadata": {},
   "outputs": [
    {
     "name": "stdout",
     "output_type": "stream",
     "text": [
      "['Person 5', 'Person 6']\n"
     ]
    }
   ],
   "source": [
    "print(new_modified_invites)"
   ]
  },
  {
   "cell_type": "code",
   "execution_count": 24,
   "metadata": {},
   "outputs": [],
   "source": [
    "del new_modified_invites[0]"
   ]
  },
  {
   "cell_type": "code",
   "execution_count": 25,
   "metadata": {},
   "outputs": [],
   "source": [
    "del new_modified_invites[0]"
   ]
  },
  {
   "cell_type": "code",
   "execution_count": 26,
   "metadata": {},
   "outputs": [
    {
     "name": "stdout",
     "output_type": "stream",
     "text": [
      "Final Invites:  []\n"
     ]
    }
   ],
   "source": [
    "print('Final Invites: ',new_modified_invites)"
   ]
  },
  {
   "cell_type": "code",
   "execution_count": 27,
   "metadata": {},
   "outputs": [
    {
     "name": "stdout",
     "output_type": "stream",
     "text": [
      "Original List:  ['s', 'b', 'z', 'j', 'd', 'a', 'e']\n"
     ]
    }
   ],
   "source": [
    "list1 = ['s','b','z','j','d','a','e']\n",
    "print('Original List: ',list1)"
   ]
  },
  {
   "cell_type": "code",
   "execution_count": 28,
   "metadata": {},
   "outputs": [
    {
     "name": "stdout",
     "output_type": "stream",
     "text": [
      "['a', 'b', 'd', 'e', 'j', 's', 'z']\n"
     ]
    }
   ],
   "source": [
    "print(sorted(list1))"
   ]
  },
  {
   "cell_type": "code",
   "execution_count": 29,
   "metadata": {},
   "outputs": [
    {
     "name": "stdout",
     "output_type": "stream",
     "text": [
      "['s', 'b', 'z', 'j', 'd', 'a', 'e']\n"
     ]
    }
   ],
   "source": [
    "print(list1)"
   ]
  },
  {
   "cell_type": "code",
   "execution_count": 30,
   "metadata": {},
   "outputs": [
    {
     "name": "stdout",
     "output_type": "stream",
     "text": [
      "['z', 's', 'j', 'e', 'd', 'b', 'a']\n"
     ]
    }
   ],
   "source": [
    "print(sorted(list1, reverse=True))"
   ]
  },
  {
   "cell_type": "code",
   "execution_count": 31,
   "metadata": {},
   "outputs": [
    {
     "name": "stdout",
     "output_type": "stream",
     "text": [
      "['s', 'b', 'z', 'j', 'd', 'a', 'e']\n"
     ]
    }
   ],
   "source": [
    "print(list1)"
   ]
  },
  {
   "cell_type": "code",
   "execution_count": 32,
   "metadata": {},
   "outputs": [],
   "source": [
    "list1.reverse()"
   ]
  },
  {
   "cell_type": "code",
   "execution_count": 33,
   "metadata": {},
   "outputs": [
    {
     "name": "stdout",
     "output_type": "stream",
     "text": [
      "['e', 'a', 'd', 'j', 'z', 'b', 's']\n"
     ]
    }
   ],
   "source": [
    "print(list1)"
   ]
  },
  {
   "cell_type": "code",
   "execution_count": 34,
   "metadata": {},
   "outputs": [],
   "source": [
    "list1.reverse()"
   ]
  },
  {
   "cell_type": "code",
   "execution_count": 35,
   "metadata": {},
   "outputs": [
    {
     "name": "stdout",
     "output_type": "stream",
     "text": [
      "['s', 'b', 'z', 'j', 'd', 'a', 'e']\n"
     ]
    }
   ],
   "source": [
    "print(list1)"
   ]
  },
  {
   "cell_type": "code",
   "execution_count": 36,
   "metadata": {},
   "outputs": [],
   "source": [
    "list1.sort()"
   ]
  },
  {
   "cell_type": "code",
   "execution_count": 37,
   "metadata": {},
   "outputs": [
    {
     "name": "stdout",
     "output_type": "stream",
     "text": [
      "['a', 'b', 'd', 'e', 'j', 's', 'z']\n"
     ]
    }
   ],
   "source": [
    "print(list1)"
   ]
  },
  {
   "cell_type": "code",
   "execution_count": 38,
   "metadata": {},
   "outputs": [],
   "source": [
    "list1.sort(reverse=True)"
   ]
  },
  {
   "cell_type": "code",
   "execution_count": 39,
   "metadata": {},
   "outputs": [
    {
     "name": "stdout",
     "output_type": "stream",
     "text": [
      "['z', 's', 'j', 'e', 'd', 'b', 'a']\n"
     ]
    }
   ],
   "source": [
    "print(list1)"
   ]
  },
  {
   "cell_type": "code",
   "execution_count": 40,
   "metadata": {},
   "outputs": [
    {
     "name": "stdout",
     "output_type": "stream",
     "text": [
      "Lion\n",
      "LION , is a wild animal\n",
      "Tiger\n",
      "TIGER , is a wild animal\n",
      "Leopard\n",
      "LEOPARD , is a wild animal\n",
      "Fox\n",
      "FOX , is a wild animal\n",
      "Wolf\n",
      "WOLF , is a wild animal\n",
      "The End!!\n"
     ]
    }
   ],
   "source": [
    "animals = ['Lion','Tiger','Leopard','Fox','Wolf']\n",
    "for animal in animals:\n",
    "    print(animal)\n",
    "    print(animal.upper(), \", is a wild animal\")\n",
    "print(\"The End!!\")"
   ]
  },
  {
   "cell_type": "code",
   "execution_count": 41,
   "metadata": {},
   "outputs": [
    {
     "name": "stdout",
     "output_type": "stream",
     "text": [
      "1\n",
      "2\n",
      "3\n",
      "4\n",
      "5\n",
      "6\n",
      "7\n",
      "8\n",
      "9\n",
      "10\n",
      "11\n",
      "12\n",
      "13\n",
      "14\n",
      "15\n",
      "16\n",
      "17\n",
      "18\n",
      "19\n",
      "20\n"
     ]
    }
   ],
   "source": [
    "for i in range(1,21):\n",
    "    print(i)"
   ]
  },
  {
   "cell_type": "code",
   "execution_count": 42,
   "metadata": {},
   "outputs": [
    {
     "name": "stdout",
     "output_type": "stream",
     "text": [
      "[1, 8, 27, 64, 125, 216, 343, 512, 729]\n"
     ]
    }
   ],
   "source": [
    "fun = [i**3 for i in range(1,10)]\n",
    "print(fun)"
   ]
  },
  {
   "cell_type": "code",
   "execution_count": 43,
   "metadata": {},
   "outputs": [
    {
     "name": "stdout",
     "output_type": "stream",
     "text": [
      "1\n",
      "729\n",
      "2025\n"
     ]
    }
   ],
   "source": [
    "print(min(fun))\n",
    "print(max(fun))\n",
    "print(sum(fun))"
   ]
  },
  {
   "cell_type": "markdown",
   "metadata": {},
   "source": [
    "--------------------------------------------------------------------------------------------"
   ]
  },
  {
   "cell_type": "markdown",
   "metadata": {},
   "source": [
    "If statements - Use cases"
   ]
  },
  {
   "cell_type": "code",
   "execution_count": 44,
   "metadata": {},
   "outputs": [
    {
     "name": "stdout",
     "output_type": "stream",
     "text": [
      "['virat', 'kohli', 'abd', 'dev', 'maxi', 'faf'] [1, 2, 3, 4, 5, 6, 7, 8, 9, 10]\n"
     ]
    }
   ],
   "source": [
    "sample = ['virat', 'kohli', 'abd', 'dev', 'maxi', 'faf']\n",
    "nums = list(range(1,11))\n",
    "print(sample , nums)"
   ]
  },
  {
   "cell_type": "code",
   "execution_count": 45,
   "metadata": {},
   "outputs": [
    {
     "name": "stdout",
     "output_type": "stream",
     "text": [
      "Odd: 1\n",
      "Even: 2\n",
      "Odd: 3\n",
      "Even: 4\n",
      "Odd: 5\n",
      "Even: 6\n",
      "Odd: 7\n",
      "Even: 8\n",
      "Odd: 9\n",
      "Even: 10\n",
      "End\n"
     ]
    }
   ],
   "source": [
    "for num in nums:\n",
    "    if num%2==0:\n",
    "        print(\"Even:\", num)\n",
    "    else:\n",
    "        print(\"Odd:\", num)\n",
    "print(\"End\")"
   ]
  },
  {
   "cell_type": "code",
   "execution_count": 46,
   "metadata": {},
   "outputs": [
    {
     "name": "stdout",
     "output_type": "stream",
     "text": [
      "VIRAT\n",
      "KOHLI\n",
      "Abd\n",
      "Dev\n",
      "Maxi\n",
      "Faf\n",
      "End\n"
     ]
    }
   ],
   "source": [
    "for name in sample:\n",
    "    if name == \"virat\" or name == 'kohli':\n",
    "        print(name.upper())\n",
    "    elif name == \"abd\" and name == \"virat\":\n",
    "        print(name.lower())\n",
    "    else:\n",
    "        print(name.title())\n",
    "print(\"End\")"
   ]
  },
  {
   "cell_type": "code",
   "execution_count": 47,
   "metadata": {},
   "outputs": [
    {
     "name": "stdout",
     "output_type": "stream",
     "text": [
      "virat\n",
      "Kohli\n",
      "abd\n",
      "Dev\n",
      "Maxi\n",
      "Faf\n",
      "End\n"
     ]
    }
   ],
   "source": [
    "for name in sample:\n",
    "    if name == \"virat\" and name == 'Kohli':   #Kohli is initialized as kohli in the input\n",
    "        print(name.upper())\n",
    "    elif name == \"abd\" or name == \"virat\":\n",
    "        print(name.lower())\n",
    "    else:\n",
    "        print(name.title())\n",
    "print(\"End\")"
   ]
  },
  {
   "cell_type": "code",
   "execution_count": 48,
   "metadata": {},
   "outputs": [
    {
     "data": {
      "text/plain": [
       "True"
      ]
     },
     "execution_count": 48,
     "metadata": {},
     "output_type": "execute_result"
    }
   ],
   "source": [
    "'kohli' in sample"
   ]
  },
  {
   "cell_type": "code",
   "execution_count": 49,
   "metadata": {},
   "outputs": [
    {
     "data": {
      "text/plain": [
       "False"
      ]
     },
     "execution_count": 49,
     "metadata": {},
     "output_type": "execute_result"
    }
   ],
   "source": [
    "'Kohli' in sample"
   ]
  },
  {
   "cell_type": "code",
   "execution_count": 50,
   "metadata": {},
   "outputs": [
    {
     "data": {
      "text/plain": [
       "True"
      ]
     },
     "execution_count": 50,
     "metadata": {},
     "output_type": "execute_result"
    }
   ],
   "source": [
    "'Kohli' not in sample"
   ]
  },
  {
   "cell_type": "code",
   "execution_count": 51,
   "metadata": {},
   "outputs": [
    {
     "data": {
      "text/plain": [
       "False"
      ]
     },
     "execution_count": 51,
     "metadata": {},
     "output_type": "execute_result"
    }
   ],
   "source": [
    "'kohli' not in sample"
   ]
  },
  {
   "cell_type": "code",
   "execution_count": 21,
   "metadata": {},
   "outputs": [
    {
     "name": "stdout",
     "output_type": "stream",
     "text": [
      "1st\n",
      "2nd\n",
      "3rd\n",
      "4th\n",
      "5th\n",
      "6th\n",
      "7th\n",
      "8th\n",
      "9th\n",
      "10th\n",
      "Its the end!\n"
     ]
    }
   ],
   "source": [
    "numbers = list(range(1,11))\n",
    "for numbs in numbers:\n",
    "    if numbs != 1 and numbs != 2 and numbs !=3:\n",
    "        print(str(numbs) +\"th\")\n",
    "    elif numbs == 1:\n",
    "        print(\"1st\")\n",
    "    elif numbs ==2:\n",
    "        print(\"2nd\")\n",
    "    else:\n",
    "        print(\"3rd\")\n",
    "print(\"Its the end!\")"
   ]
  },
  {
   "cell_type": "markdown",
   "metadata": {},
   "source": [
    "-------------------------"
   ]
  },
  {
   "cell_type": "markdown",
   "metadata": {},
   "source": [
    "Dictionary - Use Cases"
   ]
  },
  {
   "cell_type": "code",
   "execution_count": 52,
   "metadata": {},
   "outputs": [
    {
     "name": "stdout",
     "output_type": "stream",
     "text": [
      "First Name: Virat\n",
      "Last Name: Kohli\n",
      "Country: India\n",
      "Team: RCB\n"
     ]
    }
   ],
   "source": [
    "test = {\"first_name\":\"Virat\", \"last_name\":\"Kohli\", \"country\":\"India\", \"team\":\"RCB\"}\n",
    "print(\"First Name:\", test['first_name'])\n",
    "print(\"Last Name:\", test['last_name'])\n",
    "print(\"Country:\", test['country'])\n",
    "print(\"Team:\", test['team'])"
   ]
  },
  {
   "cell_type": "code",
   "execution_count": 53,
   "metadata": {},
   "outputs": [
    {
     "name": "stdout",
     "output_type": "stream",
     "text": [
      "First_Name : VIRAT\n",
      "Last_Name : KOHLI\n",
      "Country : INDIA\n",
      "Team : RCB\n"
     ]
    }
   ],
   "source": [
    "for key, value in test.items():\n",
    "    print(key.title(),':' ,value.upper())"
   ]
  },
  {
   "cell_type": "code",
   "execution_count": 54,
   "metadata": {},
   "outputs": [
    {
     "name": "stdout",
     "output_type": "stream",
     "text": [
      "Keys: FIRST_NAME\n",
      "Keys: LAST_NAME\n",
      "Keys: COUNTRY\n",
      "Keys: TEAM\n"
     ]
    }
   ],
   "source": [
    "for key in test.keys():\n",
    "    print(\"Keys:\", (key.upper()))"
   ]
  },
  {
   "cell_type": "code",
   "execution_count": 55,
   "metadata": {},
   "outputs": [
    {
     "name": "stdout",
     "output_type": "stream",
     "text": [
      "Values: Virat\n",
      "Values: Kohli\n",
      "Values: India\n",
      "Values: RCB\n"
     ]
    }
   ],
   "source": [
    "for value in test.values():\n",
    "    if value == 'RCB':\n",
    "        print(\"Values:\", value.upper())\n",
    "    else:\n",
    "        print(\"Values:\", value.title())"
   ]
  },
  {
   "cell_type": "code",
   "execution_count": 56,
   "metadata": {},
   "outputs": [
    {
     "name": "stdout",
     "output_type": "stream",
     "text": [
      "Test_List: [{'first_name': 'Virat', 'last_name': 'Kohli', 'country': 'India', 'team': 'RCB'}, {'first_name': 'AB', 'last_name': 'De Villers', 'country': 'SA', 'team': 'RCB'}, {'first_name': 'Glen', 'last_name': 'Maxwell', 'country': 'AUS', 'team': 'RCB'}]\n",
      "{'first_name': 'Virat', 'last_name': 'Kohli', 'country': 'India', 'team': 'RCB'}\n",
      "{'first_name': 'AB', 'last_name': 'De Villers', 'country': 'SA', 'team': 'RCB'}\n",
      "{'first_name': 'Glen', 'last_name': 'Maxwell', 'country': 'AUS', 'team': 'RCB'}\n"
     ]
    }
   ],
   "source": [
    "test2 = {\"first_name\":\"AB\", \"last_name\":\"De Villers\", \"country\": \"SA\", \"team\": \"RCB\"}\n",
    "test3 = {\"first_name\":\"Glen\", \"last_name\":\"Maxwell\", \"country\": \"AUS\", \"team\": \"RCB\"}\n",
    "test_list = [test,test2,test3]\n",
    "print(\"Test_List:\",test_list)\n",
    "for i in test_list:\n",
    "    print(i)"
   ]
  },
  {
   "cell_type": "code",
   "execution_count": 57,
   "metadata": {},
   "outputs": [
    {
     "name": "stdout",
     "output_type": "stream",
     "text": [
      "Original dict: {'abcd': {'fname': 'abb', 'lname': 'xzy'}, 'zxcv': {'fname': 'sdf', 'lname': 'qwer'}}\n",
      "Names: Abcd\n",
      "fname : abb\n",
      "lname : xzy\n",
      "Names: Zxcv\n",
      "fname : sdf\n",
      "lname : qwer\n"
     ]
    }
   ],
   "source": [
    "names = {\n",
    "    \"abcd\":{\n",
    "        \"fname\":\"abb\",\n",
    "        \"lname\":\"xzy\",\n",
    "    },\n",
    "    \"zxcv\":{\n",
    "        \"fname\":\"sdf\",\n",
    "        \"lname\":\"qwer\"\n",
    "    }\n",
    "}\n",
    "\n",
    "print(\"Original dict:\", names)\n",
    "\n",
    "for key, value in names.items():\n",
    "    print(\"Names:\", key.title())\n",
    "    \n",
    "    for val1,val2 in value.items():\n",
    "        print(val1, \":\", val2)"
   ]
  },
  {
   "cell_type": "markdown",
   "metadata": {},
   "source": [
    "-------------------"
   ]
  },
  {
   "cell_type": "markdown",
   "metadata": {},
   "source": [
    "User Input - Use Cases"
   ]
  },
  {
   "cell_type": "code",
   "execution_count": 58,
   "metadata": {},
   "outputs": [
    {
     "name": "stdout",
     "output_type": "stream",
     "text": [
      "Enter a number:50\n",
      "Hurray!!!!\n"
     ]
    }
   ],
   "source": [
    "user_input = int(input(\"Enter a number:\"))\n",
    "if user_input >0 and user_input %10==0:\n",
    "    print(\"Hurray!!!!\")\n",
    "else:\n",
    "    print(\"Not a valid number!!\")"
   ]
  },
  {
   "cell_type": "markdown",
   "metadata": {},
   "source": [
    "------------------"
   ]
  },
  {
   "cell_type": "markdown",
   "metadata": {},
   "source": [
    "while loops - Use Cases"
   ]
  },
  {
   "cell_type": "code",
   "execution_count": 59,
   "metadata": {},
   "outputs": [
    {
     "name": "stdout",
     "output_type": "stream",
     "text": [
      "------------\n",
      "Please enter your age:3\n",
      "Your age is: 3\n",
      "Please pay $10 per ticket\n",
      "------------\n",
      "Please enter your age:12\n",
      "Your age is: 12\n",
      "Please pay $10 per ticket\n",
      "------------\n",
      "Please enter your age:2\n",
      "Your age is: 2\n",
      "Its free!\n",
      "------------\n",
      "Please enter your age:24\n",
      "Your age is: 24\n",
      "Please pay $15 per ticket\n",
      "------------\n",
      "Please enter your age:50\n",
      "Your age is: 50\n",
      "Please pay $15 per ticket\n",
      "------------\n",
      "Please enter your age:0\n",
      "Your age is: 0\n",
      "Please enter your age greater than 0\n"
     ]
    }
   ],
   "source": [
    "a = True\n",
    "while a==True:\n",
    "    print(\"------------\")\n",
    "    age = int(input(\"Please enter your age:\"))\n",
    "    print(\"Your age is:\", age)\n",
    "    \n",
    "    if age>0:\n",
    "        if age !=0 and age<3:\n",
    "            print(\"Its free!\")\n",
    "        elif age>=3 and age<=12:\n",
    "            print(\"Please pay $10 per ticket\")\n",
    "        else:\n",
    "            print(\"Please pay $15 per ticket\")\n",
    "    else:\n",
    "        print(\"Please enter your age greater than 0\")\n",
    "        a = False"
   ]
  },
  {
   "cell_type": "code",
   "execution_count": 60,
   "metadata": {},
   "outputs": [
    {
     "name": "stdout",
     "output_type": "stream",
     "text": [
      "--------------\n",
      "Enter player's name:virat\n",
      "Enter the score the player scored:27\n",
      "Would you like to continue? Yes or No: yes\n",
      "Virat scored 27 runs in his last innings\n",
      "--------------\n",
      "Enter player's name:abd\n",
      "Enter the score the player scored:123\n",
      "Would you like to continue? Yes or No: yes\n",
      "Abd scored 123 runs in his last innings\n",
      "--------------\n",
      "Enter player's name:maxi\n",
      "Enter the score the player scored:99\n",
      "Would you like to continue? Yes or No: no\n",
      "Dictionary created: {'Virat': 27, 'Abd': 123, 'Maxi': 99}\n"
     ]
    }
   ],
   "source": [
    "#While loops with dictionary user inputs\n",
    "\n",
    "result = {}\n",
    "\n",
    "answer = True\n",
    "while answer:\n",
    "    print(\"--------------\")\n",
    "    player_name = (input(\"Enter player's name:\")).title()\n",
    "    score = int(input(\"Enter the score the player scored:\"))\n",
    "    prompt = (input(\"Would you like to continue? Yes or No: \")).upper()\n",
    "    \n",
    "    result[player_name]=score #Assigning values to created empty dictionary\n",
    "    \n",
    "    if prompt == \"NO\":\n",
    "        answer = False\n",
    "    else:\n",
    "        print(player_name+\" scored \"+str(score)+\" runs in his last innings\")\n",
    "\n",
    "print(\"Dictionary created:\", result)    "
   ]
  },
  {
   "cell_type": "markdown",
   "metadata": {},
   "source": [
    "-------------------------------------"
   ]
  },
  {
   "cell_type": "markdown",
   "metadata": {},
   "source": [
    "Functions - Use Cases"
   ]
  },
  {
   "cell_type": "code",
   "execution_count": 61,
   "metadata": {},
   "outputs": [
    {
     "name": "stdout",
     "output_type": "stream",
     "text": [
      "One of my fav book is Alice In Wonderland!\n"
     ]
    }
   ],
   "source": [
    "def fav_book(book):\n",
    "    print(\"One of my fav book is \"+book.title()+\"!\")\n",
    "\n",
    "fav_book(\"alice in wonderland\")"
   ]
  },
  {
   "cell_type": "code",
   "execution_count": 62,
   "metadata": {},
   "outputs": [
    {
     "name": "stdout",
     "output_type": "stream",
     "text": [
      "\n",
      "T-Shirt size is: L\n",
      "Message printed: I love Python\n",
      "\n",
      "T-Shirt size is: M\n",
      "Message printed: I love Python\n",
      "\n",
      "T-Shirt size is: M\n",
      "Message printed: I love India\n",
      "\n",
      "T-Shirt size is: L\n",
      "Message printed: Eesala cup namde!\n"
     ]
    }
   ],
   "source": [
    "def tshirt(size, message=\"I love Python\"):\n",
    "    print(\"\\nT-Shirt size is:\", str(size))\n",
    "    print(\"Message printed:\", message)\n",
    "\n",
    "tshirt(\"L\")\n",
    "tshirt(size=\"M\")\n",
    "tshirt(size=\"M\", message= \"I love India\")\n",
    "tshirt(\"L\", \"Eesala cup namde!\")"
   ]
  },
  {
   "cell_type": "code",
   "execution_count": 63,
   "metadata": {},
   "outputs": [
    {
     "name": "stdout",
     "output_type": "stream",
     "text": [
      "Album 1: {'Artist Name': 'Sid Sriram', 'Movie': 'Enpt', 'song': 'Maruvaarthai Pesaadhe'}\n",
      "Album 2: {'Artist Name': 'Pradeep Kumar', 'Movie': 'Jai Bhim', 'song': 'Thala Kodhum'}\n",
      "Album 3: {'Artist Name': 'Westlife', 'Movie': 'Some Album', 'song': 'Nothing can change my love for you'}\n",
      "Album 4: {'Artist Name': 'Arr', 'Movie': 'All Movies'}\n",
      "Album 5: {'Artist Name': 'Yuvan', 'Movie': 'Drugss'}\n"
     ]
    }
   ],
   "source": [
    "def make_album(artist_name, movie, song=''):\n",
    "    album = {\"Artist Name\": artist_name.title(), \"Movie\":movie.title(), \"song\":song.lower()}\n",
    "    \n",
    "    if song:\n",
    "        album['song'] = song\n",
    "    else:\n",
    "        album.pop('song')\n",
    "    return album\n",
    "\n",
    "make_album1 = make_album(\"sid sriram\",\"enpt\",\"Maruvaarthai Pesaadhe\")\n",
    "make_album2 = make_album(\"pradeep kumar\",\"jai bhim\",\"Thala Kodhum\")\n",
    "make_album3 = make_album(\"westlife\",\"some album\",\"Nothing can change my love for you\")\n",
    "make_album4 = make_album(\"arr\",\"all movies\")\n",
    "make_album5 = make_album(\"yuvan\",\"drugss\")\n",
    "\n",
    "print(\"Album 1:\", make_album1)\n",
    "print(\"Album 2:\", make_album2)\n",
    "print(\"Album 3:\", make_album3)\n",
    "print(\"Album 4:\", make_album4)\n",
    "print(\"Album 5:\", make_album5)"
   ]
  },
  {
   "cell_type": "code",
   "execution_count": 74,
   "metadata": {},
   "outputs": [
    {
     "name": "stdout",
     "output_type": "stream",
     "text": [
      "['XYZ', 'ABC', 'QWER', 'ASDF', 'LOPK'] ---> Before\n",
      "['XYZ', 'ABC', 'QWER', 'ASDF', 'LOPK'] ---> After\n",
      "Modified: ['Great LOPK', 'Great ASDF', 'Great QWER', 'Great ABC', 'Great XYZ']\n"
     ]
    }
   ],
   "source": [
    "def add_great(names):\n",
    "    \n",
    "    while names:\n",
    "        name1 = names.pop()\n",
    "        name2 = \"Great \"+name1\n",
    "        modified.append(name2)\n",
    "\n",
    "def show(names):\n",
    "    print(\"Modified:\",modified)\n",
    "\n",
    "\n",
    "name_list = [\"XYZ\", \"ABC\", \"QWER\", \"ASDF\", \"LOPK\"]\n",
    "modified = []\n",
    "print(name_list, \"---> Before\")\n",
    "add_great(name_list[:])    #Passing the copy of original list\n",
    "print(name_list, \"---> After\")\n",
    "show(sorted(name_list))\n"
   ]
  },
  {
   "cell_type": "code",
   "execution_count": 77,
   "metadata": {},
   "outputs": [
    {
     "name": "stdout",
     "output_type": "stream",
     "text": [
      "['XYZ', 'ABC', 'QWER', 'ASDF', 'LOPK'] ---> Before\n",
      "[] ---> After\n",
      "Modified: ['Great LOPK', 'Great ASDF', 'Great QWER', 'Great ABC', 'Great XYZ']\n"
     ]
    }
   ],
   "source": [
    "def add_great(names):\n",
    "    \n",
    "    while names:\n",
    "        name1 = names.pop()\n",
    "        name2 = \"Great \"+name1\n",
    "        modified.append(name2)\n",
    "\n",
    "def show(names):\n",
    "    print(\"Modified:\",modified)\n",
    "\n",
    "\n",
    "name_list = [\"XYZ\", \"ABC\", \"QWER\", \"ASDF\", \"LOPK\"]\n",
    "modified = []\n",
    "print(name_list, \"---> Before\")\n",
    "add_great(name_list)    #Passing original list\n",
    "print(name_list, \"---> After\")\n",
    "show(sorted(name_list))"
   ]
  },
  {
   "cell_type": "code",
   "execution_count": 81,
   "metadata": {},
   "outputs": [
    {
     "name": "stdout",
     "output_type": "stream",
     "text": [
      "The 16 inch something has tops like abc\n",
      "The 16 inch something has tops like xzr\n",
      "The 16 inch something has tops like qwer\n"
     ]
    }
   ],
   "source": [
    "def something(size, *tops):   # * single asterik creates an empty tuple for inputs\n",
    "    for top in tops:\n",
    "        print(\"The \"+ str(size)+ \" inch something has tops like \"+ top)\n",
    "\n",
    "something(16, \"abc\", 'xzr','qwer')"
   ]
  },
  {
   "cell_type": "code",
   "execution_count": 84,
   "metadata": {},
   "outputs": [
    {
     "name": "stdout",
     "output_type": "stream",
     "text": [
      "{'first': 'ABC', 'last': 'XYZ', 'location': 'nowhere', 'message': 'get out'}\n"
     ]
    }
   ],
   "source": [
    "def something2(first, last, **others):\n",
    "    dict1 = {}\n",
    "    dict1['first'] = first\n",
    "    dict1['last'] = last\n",
    "    \n",
    "    for key, value in others.items():\n",
    "        dict1[key] = value\n",
    "    return dict1\n",
    "\n",
    "testtt = something2(\"ABC\", \"XYZ\", location= 'nowhere',message = \"get out\")\n",
    "print(testtt)"
   ]
  },
  {
   "cell_type": "markdown",
   "metadata": {},
   "source": [
    "----------------------------"
   ]
  },
  {
   "cell_type": "markdown",
   "metadata": {},
   "source": [
    "Class - Use Cases"
   ]
  },
  {
   "cell_type": "code",
   "execution_count": 87,
   "metadata": {},
   "outputs": [
    {
     "name": "stdout",
     "output_type": "stream",
     "text": [
      "Hello, ABC DEF!\n",
      "The user named ASD QWER0 is from LOPW\n"
     ]
    }
   ],
   "source": [
    "class User():\n",
    "    \n",
    "    def __init__(self, f_name,l_name,country):\n",
    "        self.f_name = f_name\n",
    "        self.l_name = l_name\n",
    "        self.country = country\n",
    "        \n",
    "    def greet_user(self):\n",
    "        print(\"Hello, \"+self.f_name+\" \"+self.l_name+\"!\")\n",
    "        \n",
    "    def describe_user(self):\n",
    "        print(\"The user named \"+self.f_name+\" \"+self.l_name+ \" is from \"+self.country)\n",
    "    \n",
    "user1 = User(\"ABC\", \"DEF\", \"XYZ\")\n",
    "user2 = User(\"ASD\", \"QWER0\", \"LOPW\")\n",
    "\n",
    "user1.greet_user()\n",
    "user2.describe_user()"
   ]
  },
  {
   "cell_type": "code",
   "execution_count": 101,
   "metadata": {},
   "outputs": [],
   "source": [
    "class Hotel():\n",
    "    \n",
    "    def __init__(self):\n",
    "        self.number_served = 0\n",
    "    \n",
    "    def set_served(self, new_value):\n",
    "        if new_value > self.number_served:\n",
    "            self.number_served = new_value\n",
    "        return self.number_served\n",
    "    \n",
    "    def increment_value(self, value):\n",
    "        self.number_served+=value\n",
    "        return self.number_served\n",
    "    \n",
    "hotel = Hotel()    "
   ]
  },
  {
   "cell_type": "code",
   "execution_count": 102,
   "metadata": {},
   "outputs": [
    {
     "data": {
      "text/plain": [
       "10"
      ]
     },
     "execution_count": 102,
     "metadata": {},
     "output_type": "execute_result"
    }
   ],
   "source": [
    "hotel.set_served(10)"
   ]
  },
  {
   "cell_type": "code",
   "execution_count": 103,
   "metadata": {},
   "outputs": [
    {
     "data": {
      "text/plain": [
       "30"
      ]
     },
     "execution_count": 103,
     "metadata": {},
     "output_type": "execute_result"
    }
   ],
   "source": [
    "hotel.increment_value(20)"
   ]
  },
  {
   "cell_type": "code",
   "execution_count": 104,
   "metadata": {},
   "outputs": [
    {
     "data": {
      "text/plain": [
       "50"
      ]
     },
     "execution_count": 104,
     "metadata": {},
     "output_type": "execute_result"
    }
   ],
   "source": [
    "hotel.increment_value(20)"
   ]
  },
  {
   "cell_type": "code",
   "execution_count": 105,
   "metadata": {},
   "outputs": [
    {
     "data": {
      "text/plain": [
       "100"
      ]
     },
     "execution_count": 105,
     "metadata": {},
     "output_type": "execute_result"
    }
   ],
   "source": [
    "hotel.increment_value(50)"
   ]
  },
  {
   "cell_type": "code",
   "execution_count": 106,
   "metadata": {},
   "outputs": [
    {
     "data": {
      "text/plain": [
       "120"
      ]
     },
     "execution_count": 106,
     "metadata": {},
     "output_type": "execute_result"
    }
   ],
   "source": [
    "hotel.increment_value(20)"
   ]
  },
  {
   "cell_type": "code",
   "execution_count": 119,
   "metadata": {},
   "outputs": [
    {
     "name": "stdout",
     "output_type": "stream",
     "text": [
      "Medium\n",
      "85\n"
     ]
    }
   ],
   "source": [
    "class Car():\n",
    "    \n",
    "    def __init__(self, name, model):\n",
    "        self.name = name\n",
    "        self.model = model\n",
    "        self.year = \"2022\"\n",
    "        \n",
    "    def describe_car(self):\n",
    "        print(\"The car \"+self.name+ \" \"+ self.model+\" has been manufactured in\" +\" \"+self.year)\n",
    "\n",
    "\n",
    "class Battery():\n",
    "    \n",
    "    def __init__(self, power=65):\n",
    "        self.power = power\n",
    "    \n",
    "    def describe(self):\n",
    "        print(\"The car has \"+self.power+\" -KwH\")\n",
    "    \n",
    "    def upgrade_battery(self):\n",
    "        if self.power <= 50:\n",
    "            capactiy = 50\n",
    "        elif self.power > 50 and self.power < 90:\n",
    "            capacity = 85\n",
    "        else:\n",
    "            capacity = 100\n",
    "        return capacity\n",
    "    \n",
    "    def get_range(self):\n",
    "        if self.power <= 50:\n",
    "            rangee = \"Low\"\n",
    "        elif self.power > 50 and self.power <=85:\n",
    "            rangee = \"Medium\"\n",
    "        else: rangee = \"High\"\n",
    "        return rangee\n",
    "        \n",
    "class Electric_car(Car):\n",
    "    \n",
    "    def __init__(self, name, model):\n",
    "        super().__init__(name, model)\n",
    "        self.power = Battery()\n",
    "    \n",
    "car1=Electric_car(\"Audi\",\"Q5\")\n",
    "print(car1.power.get_range())\n",
    "print(car1.power.upgrade_battery())"
   ]
  },
  {
   "cell_type": "code",
   "execution_count": 130,
   "metadata": {},
   "outputs": [
    {
     "name": "stdout",
     "output_type": "stream",
     "text": [
      "2\n",
      "Die value: 0\n",
      "Die value: 1\n"
     ]
    }
   ],
   "source": [
    "from random import randint\n",
    "\n",
    "class Die():\n",
    "    \n",
    "    def __init__(self, sides = 6):\n",
    "        self.sides = sides\n",
    "    \n",
    "    def roll_dice(self):\n",
    "        ran = randint(1,self.sides)   #Generates random values\n",
    "        print(ran)\n",
    "        for i in range(ran):\n",
    "            print(\"Die value:\", i)\n",
    "\n",
    "die = Die(6)\n",
    "die.roll_dice()"
   ]
  },
  {
   "cell_type": "markdown",
   "metadata": {},
   "source": [
    "-------------------"
   ]
  },
  {
   "cell_type": "markdown",
   "metadata": {},
   "source": [
    "File Handling and Exceptions - Use Cases"
   ]
  },
  {
   "cell_type": "code",
   "execution_count": 4,
   "metadata": {},
   "outputs": [
    {
     "name": "stdout",
     "output_type": "stream",
     "text": [
      "Hello, this is me Krishna and I am extremely elated to say that I love India the most with all of me and even beyond!\n"
     ]
    }
   ],
   "source": [
    "filename = 'C:/Users/skris/test_file.txt'\n",
    "\n",
    "with open(filename) as file:\n",
    "    contents = file.read()\n",
    "    print(contents)"
   ]
  },
  {
   "cell_type": "code",
   "execution_count": 5,
   "metadata": {},
   "outputs": [
    {
     "name": "stdout",
     "output_type": "stream",
     "text": [
      "Hello, this is me Krishna and I am extremely elated to say that I love India the most with all of me and even beyond!\n"
     ]
    }
   ],
   "source": [
    "with open(filename) as file:\n",
    "    for line in file:\n",
    "        print(line)"
   ]
  },
  {
   "cell_type": "code",
   "execution_count": 11,
   "metadata": {},
   "outputs": [
    {
     "name": "stdout",
     "output_type": "stream",
     "text": [
      "Original:  Hello, this is me Krishna and I am extremely elated to say that I love India the most with all of me and even beyond!\n",
      "Modified:  Hello, this is me Krishna and I am extremely elated to say that I love Shobiii the most with all of me and even beyond!\n"
     ]
    }
   ],
   "source": [
    "with open(filename) as file:\n",
    "    message = file.read()\n",
    "    print(\"Original: \", message)\n",
    "    modified = message.replace('India', 'Shobiii')\n",
    "    print(\"Modified: \", modified)"
   ]
  },
  {
   "cell_type": "code",
   "execution_count": 12,
   "metadata": {},
   "outputs": [],
   "source": [
    "file = \"programming.txt\"\n",
    "\n",
    "with open(file,'w') as file:\n",
    "    file.write(\"I am Krishna.\\n\")\n",
    "    file.write(\"I love Shobiii the most, than one could ever imagine.\\n\")\n",
    "    "
   ]
  },
  {
   "cell_type": "code",
   "execution_count": 15,
   "metadata": {},
   "outputs": [],
   "source": [
    "file = \"programming.txt\"\n",
    "with open(file,'a') as file:\n",
    "    file.write(\"She is my life and my everything.!\")"
   ]
  },
  {
   "cell_type": "code",
   "execution_count": 24,
   "metadata": {},
   "outputs": [
    {
     "name": "stdout",
     "output_type": "stream",
     "text": [
      "I am Krishna.\n",
      "I love Shobiii the most, than one could ever imagine.\n",
      "She is my life and my everything.!\n"
     ]
    }
   ],
   "source": [
    "file = \"programming.txt\"\n",
    "with open(file) as file:\n",
    "    contents = file.readlines()\n",
    "\n",
    "message = \"\"\n",
    "for i in contents:\n",
    "    message += i\n",
    "\n",
    "print(message)"
   ]
  },
  {
   "cell_type": "code",
   "execution_count": 29,
   "metadata": {},
   "outputs": [],
   "source": [
    "#Creating a clean code to greet a user using json.dump() and json.load()\n",
    "\n",
    "import json\n",
    "\n",
    "def check_existing_user():\n",
    "    \"\"\"Checks if the username is present already in the file\"\"\"\n",
    "    \n",
    "    filename = \"testing.txt\"\n",
    "    try:\n",
    "        with open(filename) as file:\n",
    "            username = json.load(file)\n",
    "    except FileNotFoundError:\n",
    "        return None\n",
    "    else:\n",
    "        return username\n",
    "    \n",
    "\n",
    "def get_new_username():\n",
    "    \"\"\"If username not in previous method we need to get the new username from the user\"\"\"\n",
    "    \n",
    "    username = input(\"Enter username:\")\n",
    "    filename = \"testing.txt\"\n",
    "    with open(filename,'w') as file:\n",
    "        json.dump(username,file)\n",
    "        return username\n",
    "\n",
    "    \n",
    "def greet_user():\n",
    "    \"\"\"Greet the user\"\"\"\n",
    "    username = check_existing_user()\n",
    "    if username:\n",
    "        print(\"Hello, \"+username+\"!!\")\n",
    "    else:\n",
    "        username = get_new_username()\n",
    "        print(\"Hello, \"+username+\"!!!\")\n"
   ]
  },
  {
   "cell_type": "code",
   "execution_count": 30,
   "metadata": {},
   "outputs": [
    {
     "name": "stdout",
     "output_type": "stream",
     "text": [
      "Hello, Giri!!\n"
     ]
    }
   ],
   "source": [
    "greet_user()"
   ]
  },
  {
   "cell_type": "code",
   "execution_count": null,
   "metadata": {},
   "outputs": [],
   "source": []
  }
 ],
 "metadata": {
  "kernelspec": {
   "display_name": "Python 3",
   "language": "python",
   "name": "python3"
  },
  "language_info": {
   "codemirror_mode": {
    "name": "ipython",
    "version": 3
   },
   "file_extension": ".py",
   "mimetype": "text/x-python",
   "name": "python",
   "nbconvert_exporter": "python",
   "pygments_lexer": "ipython3",
   "version": "3.7.6"
  }
 },
 "nbformat": 4,
 "nbformat_minor": 4
}
