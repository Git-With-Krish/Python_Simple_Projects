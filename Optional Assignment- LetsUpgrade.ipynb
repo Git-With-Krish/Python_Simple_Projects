{
 "cells": [
  {
   "cell_type": "code",
   "execution_count": 1,
   "metadata": {},
   "outputs": [
    {
     "name": "stdout",
     "output_type": "stream",
     "text": [
      "Enter string here:All-convoYs-be:9:Alert1\n",
      "Enter value here:4\n"
     ]
    },
    {
     "data": {
      "text/plain": [
       "'Epp-gsrzsCw-fi:3:Epivx5'"
      ]
     },
     "execution_count": 1,
     "metadata": {},
     "output_type": "execute_result"
    }
   ],
   "source": [
    "#OptionalAssignment--- Create a cioher program to encrypt the messages received\n",
    "\n",
    "\n",
    "to_be_encrypted=input(\"Enter string here:\")\n",
    "key=int(input(\"Enter value here:\"))\n",
    "\n",
    "def encryption(a,b):\n",
    "    encrypted_string=\"\"\n",
    "    for i in a:\n",
    "        if i.isalpha():\n",
    "            if i.isupper():\n",
    "                encrypted_string=encrypted_string+ chr((ord(i)+b-65)%26+65)\n",
    "            else:\n",
    "                encrypted_string=encrypted_string+ chr((ord(i)+b-97)%26+97)\n",
    "        elif i.isdigit():\n",
    "            encrypted_string=encrypted_string+ chr((ord(i)+b-48)%10+48)\n",
    "        else:\n",
    "            encrypted_string=encrypted_string + i\n",
    "    return encrypted_string\n",
    "\n",
    "#Function Call\n",
    "encryption(to_be_encrypted,key)"
   ]
  },
  {
   "cell_type": "code",
   "execution_count": null,
   "metadata": {},
   "outputs": [],
   "source": []
  }
 ],
 "metadata": {
  "kernelspec": {
   "display_name": "Python 3",
   "language": "python",
   "name": "python3"
  },
  "language_info": {
   "codemirror_mode": {
    "name": "ipython",
    "version": 3
   },
   "file_extension": ".py",
   "mimetype": "text/x-python",
   "name": "python",
   "nbconvert_exporter": "python",
   "pygments_lexer": "ipython3",
   "version": "3.7.6"
  }
 },
 "nbformat": 4,
 "nbformat_minor": 4
}
