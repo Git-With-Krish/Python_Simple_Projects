{
 "cells": [
  {
   "cell_type": "markdown",
   "metadata": {},
   "source": [
    "# Sample Program to read an excel file and create a dictionary output"
   ]
  },
  {
   "cell_type": "code",
   "execution_count": 9,
   "metadata": {},
   "outputs": [],
   "source": [
    "import openpyxl"
   ]
  },
  {
   "cell_type": "code",
   "execution_count": 21,
   "metadata": {},
   "outputs": [
    {
     "name": "stdout",
     "output_type": "stream",
     "text": [
      "59\n"
     ]
    }
   ],
   "source": [
    "dict_needed= {}\n",
    "read_testdata=openpyxl.load_workbook('K:\\Coding_Practice\\Test_Dataset.xlsx')\n",
    "read_sheet=read_testdata[\"Sheet1\"]\n",
    "print(read_sheet.max_row)"
   ]
  },
  {
   "cell_type": "code",
   "execution_count": 22,
   "metadata": {},
   "outputs": [
    {
     "name": "stdout",
     "output_type": "stream",
     "text": [
      "{'AAA Company': 20, 'BBB Company': 18, 'CCC Company': 20}\n"
     ]
    }
   ],
   "source": [
    "for row_numbers in range(2, read_sheet.max_row +1):\n",
    "    \n",
    "    #Reading values from the input sheet\n",
    "    comp_name=read_sheet.cell(row_numbers,3).value #Column 3\n",
    "    price = read_sheet.cell(row_numbers,2).value  #Column 2\n",
    "    prod_num = read_sheet.cell(row_numbers,1).value  #Column 1\n",
    "    \n",
    "    \"\"\"\"\n",
    "    sample output:\n",
    "    {\"AAA\":12, \"BBB\":34, \"CCC\":21}\n",
    "    To get that, dict_needed[\"key\"] = \"value\"  \n",
    "    here, key is company name and value is Number present in the datasheet\n",
    "    \"\"\"\n",
    "    \n",
    "    #Check if the comp name is same or new one\n",
    "    if comp_name in dict_needed:\n",
    "        current_row_comp_name = dict_needed[comp_name]\n",
    "        dict_needed[comp_name]=current_row_comp_name + 1\n",
    "    \n",
    "    else:\n",
    "        dict_needed[comp_name] = 1\n",
    "\n",
    "print(dict_needed)"
   ]
  },
  {
   "cell_type": "code",
   "execution_count": null,
   "metadata": {},
   "outputs": [],
   "source": []
  },
  {
   "cell_type": "code",
   "execution_count": null,
   "metadata": {},
   "outputs": [],
   "source": []
  },
  {
   "cell_type": "code",
   "execution_count": null,
   "metadata": {},
   "outputs": [],
   "source": []
  },
  {
   "cell_type": "code",
   "execution_count": null,
   "metadata": {},
   "outputs": [],
   "source": []
  },
  {
   "cell_type": "code",
   "execution_count": null,
   "metadata": {},
   "outputs": [],
   "source": []
  },
  {
   "cell_type": "code",
   "execution_count": null,
   "metadata": {},
   "outputs": [],
   "source": []
  },
  {
   "cell_type": "code",
   "execution_count": null,
   "metadata": {},
   "outputs": [],
   "source": []
  },
  {
   "cell_type": "code",
   "execution_count": null,
   "metadata": {},
   "outputs": [],
   "source": []
  },
  {
   "cell_type": "code",
   "execution_count": null,
   "metadata": {},
   "outputs": [],
   "source": [
    "# 2 and +1 is added becuz range fn starts from 0 to n-1. \n",
    "#Since our data sheet starts from row number 1 (which is the header), \n",
    "#to neglect that we mention from 2 and the +1 is cuz to include the last line of the sheet th row,"
   ]
  },
  {
   "cell_type": "code",
   "execution_count": null,
   "metadata": {},
   "outputs": [],
   "source": []
  },
  {
   "cell_type": "code",
   "execution_count": null,
   "metadata": {},
   "outputs": [],
   "source": []
  },
  {
   "cell_type": "code",
   "execution_count": null,
   "metadata": {},
   "outputs": [],
   "source": []
  },
  {
   "cell_type": "code",
   "execution_count": null,
   "metadata": {},
   "outputs": [],
   "source": []
  }
 ],
 "metadata": {
  "kernelspec": {
   "display_name": "Python 3",
   "language": "python",
   "name": "python3"
  },
  "language_info": {
   "codemirror_mode": {
    "name": "ipython",
    "version": 3
   },
   "file_extension": ".py",
   "mimetype": "text/x-python",
   "name": "python",
   "nbconvert_exporter": "python",
   "pygments_lexer": "ipython3",
   "version": "3.7.6"
  }
 },
 "nbformat": 4,
 "nbformat_minor": 4
}
