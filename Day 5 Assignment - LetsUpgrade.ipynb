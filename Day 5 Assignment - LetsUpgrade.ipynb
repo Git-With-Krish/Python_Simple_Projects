{
 "cells": [
  {
   "cell_type": "markdown",
   "metadata": {},
   "source": [
    "# Assignment 1"
   ]
  },
  {
   "cell_type": "code",
   "execution_count": 52,
   "metadata": {},
   "outputs": [
    {
     "name": "stdout",
     "output_type": "stream",
     "text": [
      "***Start of Withdrawal method***\n",
      "Enter amount to be withdrawn:2000\n",
      "Hello KK sir! Your account balance after withdrawl is 2000\n",
      "Do you want to continue? Please type 'Y' or 'N'y\n",
      "Enter amount to be withdrawn:3000\n",
      "Exceeded the limit..Your current balance is 2000\n",
      "Enter amount to be withdrawn:1000\n",
      "Hello KK sir! Your account balance after withdrawl is 1000\n",
      "Do you want to continue? Please type 'Y' or 'N'y\n",
      "Enter amount to be withdrawn:1\n",
      "Hello KK sir! Your account balance after withdrawl is 999\n",
      "Do you want to continue? Please type 'Y' or 'N'n\n",
      "Thank You! Visit again...Your account balance is 999\n",
      "***Withdrawl method done***\n",
      "-------------------XXXXX-----------------------\n",
      "***Start of Deposit method***\n",
      "Your current balance is: 4000\n",
      "Enter the amount to be deposited:5000\n",
      "The entered amount 5000 is deposited successfully in account with Owner's name GK\n",
      "Do you want to deposit more? Please type 'Y' or 'N'y\n",
      "Enter the amount to be deposited:1000\n",
      "The entered amount 1000 is deposited successfully in account with Owner's name GK\n",
      "Do you want to deposit more? Please type 'Y' or 'N'n\n",
      "Thank you! Visit again..Your current balance is 10000\n",
      "***Deposit method done***\n",
      "-------------------XXXXX-----------------------\n"
     ]
    }
   ],
   "source": [
    "#Create a class BankAccount with two attributes and methods\n",
    "\n",
    "class BankAccount():\n",
    "    \n",
    "    def __init__(self,owner,balance):\n",
    "        self.balance=balance\n",
    "        self.owner=owner\n",
    "                \n",
    "    def Withdrawal(nameOfOwner,balance):\n",
    "        print(\"***Start of Withdrawal method***\")\n",
    "        again='Y'\n",
    "        \n",
    "        while(balance > 0 and (again!='N')):\n",
    "            \n",
    "            amountToBeWithdrawn=int(input(\"Enter amount to be withdrawn:\"))\n",
    "            \n",
    "            if amountToBeWithdrawn <= balance:\n",
    "                balance = balance - amountToBeWithdrawn\n",
    "                print(\"Hello {} sir! Your account balance after withdrawl is {}\".format(nameOfOwner,balance))\n",
    "                again=input(\"Do you want to continue? Please type 'Y' or 'N'\").upper()\n",
    "            else:\n",
    "                print(\"Exceeded the limit..Your current balance is {}\".format(balance))\n",
    "                \n",
    "        if balance == 0 or balance < amountToBeWithdrawn:\n",
    "            print(\"Oops! Your account balance is {}\".format(balance))\n",
    "#             ask=input(\"Do you want to deposit? Please type 'Y' or 'N'\").upper()\n",
    "#             if ask=='Y':\n",
    "#                 return BankAccount.deposit(a,b)\n",
    "#             else:\n",
    "#                 print(\"You have chosen 'N'\")\n",
    "        \n",
    "        print(\"Thank You! Visit again...Your account balance is {}\".format(balance))   \n",
    "        print(\"***Withdrawl method done***\")\n",
    "        print(\"-------------------XXXXX-----------------------\")\n",
    "        \n",
    "    def deposit(nameOfOwner,balance_amount):\n",
    "        print(\"***Start of Deposit method***\")\n",
    "        depositMore='Y'\n",
    "        print(\"Your current balance is:\" ,balance_amount)\n",
    "        \n",
    "        while (depositMore!='N'):\n",
    "            amountDeposited=int(input(\"Enter the amount to be deposited:\"))\n",
    "            print(\"The entered amount {} is deposited successfully in account with Owner's name {}\".format(amountDeposited,nameOfOwner))\n",
    "            depositMore=input(\"Do you want to deposit more? Please type 'Y' or 'N'\").upper()\n",
    "            balance_amount += amountDeposited\n",
    "        print(\"Thank you! Visit again..Your current balance is {}\".format(balance_amount))\n",
    "        print(\"***Deposit method done***\")\n",
    "        print(\"-------------------XXXXX-----------------------\")\n",
    "\n",
    "BankAccount.Withdrawal(\"KK\",4000)\n",
    "BankAccount.deposit(\"GK\",4000)         "
   ]
  },
  {
   "cell_type": "markdown",
   "metadata": {},
   "source": [
    "# Assignment 2 --- Method 1"
   ]
  },
  {
   "cell_type": "code",
   "execution_count": 53,
   "metadata": {},
   "outputs": [
    {
     "name": "stdout",
     "output_type": "stream",
     "text": [
      "Volume of cone is: 25.132741228718345\n",
      "Base of cone is: 50.26548245743669\n",
      "Side of cone is: 101.31331885360844\n"
     ]
    }
   ],
   "source": [
    "#Create a cone class with two attributes and methods\n",
    "\n",
    "from math import pi\n",
    "from math import sqrt\n",
    "\n",
    "class Cone():\n",
    "    \n",
    "    def __init__(self,r,h):\n",
    "        self.r=r\n",
    "        self.h=h\n",
    "    \n",
    "    def Volume(self):\n",
    "        r=self.r\n",
    "        h=self.h\n",
    "        volumeOfCone=pi * (r**2) * (h /3)\n",
    "        print(\"Volume of cone is:\" ,volumeOfCone)\n",
    "    \n",
    "    def SurfaceArea(self):\n",
    "        base=pi * (self.r**2)\n",
    "        side=pi * self.r * (sqrt((self.r**2) + (self.h**2)))\n",
    "        print(\"Base of cone is:\" ,base)\n",
    "        print(\"Side of cone is:\" ,side)\n",
    "\n",
    "vol=Cone(2,6)\n",
    "vol.Volume()\n",
    "\n",
    "csa=Cone(4,7)\n",
    "csa.SurfaceArea()"
   ]
  },
  {
   "cell_type": "markdown",
   "metadata": {},
   "source": [
    "# Assignment 2 --- Method 2"
   ]
  },
  {
   "cell_type": "code",
   "execution_count": 54,
   "metadata": {},
   "outputs": [
    {
     "name": "stdout",
     "output_type": "stream",
     "text": [
      "Volume of cone is: 25.132741228718345\n",
      "Base of cone is: 50.26548245743669\n",
      "Side of cone is: 101.31331885360844\n"
     ]
    }
   ],
   "source": [
    "#Create a cone class with two attributes and methods\n",
    "\n",
    "from math import pi\n",
    "from math import sqrt\n",
    "\n",
    "class Cone():\n",
    "    \n",
    "    def Volume(r,h):\n",
    "        volumeOfCone=pi * (r**2) * (h /3)\n",
    "        print(\"Volume of cone is:\" ,volumeOfCone)\n",
    "    \n",
    "    def SurfaceArea(r,h):\n",
    "        base=pi * (r**2)\n",
    "        side=pi * r * (sqrt((r**2) + (h**2)))\n",
    "        print(\"Base of cone is:\" ,base)\n",
    "        print(\"Side of cone is:\" ,side)\n",
    "    \n",
    "Cone.Volume(2,6)\n",
    "Cone.SurfaceArea(4,7)"
   ]
  }
 ],
 "metadata": {
  "kernelspec": {
   "display_name": "Python 3",
   "language": "python",
   "name": "python3"
  },
  "language_info": {
   "codemirror_mode": {
    "name": "ipython",
    "version": 3
   },
   "file_extension": ".py",
   "mimetype": "text/x-python",
   "name": "python",
   "nbconvert_exporter": "python",
   "pygments_lexer": "ipython3",
   "version": "3.7.6"
  }
 },
 "nbformat": 4,
 "nbformat_minor": 4
}
