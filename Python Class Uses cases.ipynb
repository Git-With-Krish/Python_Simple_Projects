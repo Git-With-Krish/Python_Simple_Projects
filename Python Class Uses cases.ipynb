{
 "cells": [
  {
   "cell_type": "markdown",
   "metadata": {},
   "source": [
    "# Python Class Uses cases"
   ]
  },
  {
   "cell_type": "code",
   "execution_count": 15,
   "metadata": {},
   "outputs": [],
   "source": [
    "class User():\n",
    "    def __init__(self, userName, password, email, phoneNumber):\n",
    "        self.userName = userName\n",
    "        self.password = password\n",
    "        self.email = email\n",
    "        self.phoneNumber = phoneNumber\n",
    "    \n",
    "    def changeUserName(self, new_userName):\n",
    "        self.userName = new_userName\n",
    "    \n",
    "    def changePassword(self, new_password):\n",
    "        self.password = new_password\n",
    "    \n",
    "    def changeEmail(self, new_email):\n",
    "        self.email = new_email\n",
    "    \n",
    "    def changePhoneNumber(self, new_phoneNumber):\n",
    "        self.phoneNumber = new_phoneNumber\n",
    "\n",
    "    def get_user_info(self):\n",
    "        print (f\"User {self.userName} can be contacted through {self.email} or by {self.phoneNumber}\")"
   ]
  },
  {
   "cell_type": "code",
   "execution_count": 16,
   "metadata": {},
   "outputs": [
    {
     "name": "stdout",
     "output_type": "stream",
     "text": [
      "User Krishnakanth Srikanth can be contacted through something@gmail.com or by 1234567890\n"
     ]
    }
   ],
   "source": [
    "user_info = User(\"Krishnakanth Srikanth\", \"Something@123\", \"something@gmail.com\", \"1234567890\")\n",
    "user_info.get_user_info()"
   ]
  },
  {
   "cell_type": "code",
   "execution_count": 18,
   "metadata": {},
   "outputs": [
    {
     "name": "stdout",
     "output_type": "stream",
     "text": [
      "User Shobana Erode Sundararajan can be contacted through something@gmail.com or by 1234567890\n"
     ]
    }
   ],
   "source": [
    "user_info.changeUserName(\"Shobana Erode Sundararajan\")\n",
    "user_info.get_user_info()"
   ]
  },
  {
   "cell_type": "code",
   "execution_count": 19,
   "metadata": {},
   "outputs": [
    {
     "name": "stdout",
     "output_type": "stream",
     "text": [
      "User Shobana Erode Sundararajan can be contacted through something@gmail.com or by 9874563210\n"
     ]
    }
   ],
   "source": [
    "user_info.changePhoneNumber(\"9874563210\")\n",
    "user_info.get_user_info()"
   ]
  },
  {
   "cell_type": "code",
   "execution_count": 22,
   "metadata": {},
   "outputs": [
    {
     "name": "stdout",
     "output_type": "stream",
     "text": [
      "User Shobana Erode Sundararajan can be contacted through emailme@gmail.com or by 9874563210\n"
     ]
    }
   ],
   "source": [
    "user_info.changeEmail(\"emailme@gmail.com\")\n",
    "user_info.get_user_info()"
   ]
  },
  {
   "cell_type": "code",
   "execution_count": null,
   "metadata": {},
   "outputs": [],
   "source": []
  },
  {
   "cell_type": "code",
   "execution_count": null,
   "metadata": {},
   "outputs": [],
   "source": []
  },
  {
   "cell_type": "code",
   "execution_count": null,
   "metadata": {},
   "outputs": [],
   "source": []
  },
  {
   "cell_type": "code",
   "execution_count": null,
   "metadata": {},
   "outputs": [],
   "source": []
  },
  {
   "cell_type": "code",
   "execution_count": null,
   "metadata": {},
   "outputs": [],
   "source": []
  },
  {
   "cell_type": "code",
   "execution_count": null,
   "metadata": {},
   "outputs": [],
   "source": []
  },
  {
   "cell_type": "code",
   "execution_count": null,
   "metadata": {},
   "outputs": [],
   "source": []
  },
  {
   "cell_type": "code",
   "execution_count": null,
   "metadata": {},
   "outputs": [],
   "source": []
  }
 ],
 "metadata": {
  "kernelspec": {
   "display_name": "Python 3",
   "language": "python",
   "name": "python3"
  },
  "language_info": {
   "codemirror_mode": {
    "name": "ipython",
    "version": 3
   },
   "file_extension": ".py",
   "mimetype": "text/x-python",
   "name": "python",
   "nbconvert_exporter": "python",
   "pygments_lexer": "ipython3",
   "version": "3.7.6"
  }
 },
 "nbformat": 4,
 "nbformat_minor": 4
}
