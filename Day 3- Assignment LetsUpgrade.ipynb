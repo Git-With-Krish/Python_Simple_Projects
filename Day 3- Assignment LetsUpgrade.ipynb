{
 "cells": [
  {
   "cell_type": "markdown",
   "metadata": {},
   "source": [
    "# Question 1:"
   ]
  },
  {
   "cell_type": "code",
   "execution_count": 18,
   "metadata": {},
   "outputs": [
    {
     "name": "stdout",
     "output_type": "stream",
     "text": [
      "Enter score:101\n"
     ]
    }
   ],
   "source": [
    "# Take an input and then using if elif else concept, assign a grade to the input number from A,B,C,D,E,Fail\n",
    "\n",
    "score=int(input(\"Enter score:\"))\n",
    "if score>=35:\n",
    "    if score>=90 and score<=100:\n",
    "        print(\" |--------|\")\n",
    "        print(\" |   A    |\")\n",
    "        print(\" |--------|\")\n",
    "    elif score>=70 and score<90:\n",
    "        print(\" |--------|\")\n",
    "        print(\" |   B    |\")\n",
    "        print(\" |--------|\")\n",
    "    elif score >=60 and score<70:\n",
    "        print(\" |--------|\")\n",
    "        print(\" |   C    |\")\n",
    "        print(\" |--------|\")\n",
    "    elif score>=50 and score<60:\n",
    "        print(\" |--------|\")\n",
    "        print(\" |   D    |\")\n",
    "        print(\" |--------|\")\n",
    "    elif score>=35 and score<50:\n",
    "        print(\" |--------|\")\n",
    "        print(\" |   E    |\")\n",
    "        print(\" |--------|\")\n",
    "else:\n",
    "    print(\" |--------|\")\n",
    "    print(\" |  Fail  |\")\n",
    "    print(\" |--------|\")\n",
    "    "
   ]
  },
  {
   "cell_type": "markdown",
   "metadata": {},
   "source": [
    "# Question 2:"
   ]
  },
  {
   "cell_type": "code",
   "execution_count": 2,
   "metadata": {},
   "outputs": [
    {
     "name": "stdout",
     "output_type": "stream",
     "text": [
      "169\n",
      "Enter your guess value:179\n",
      "Close by,You are a True Indian Fan\n",
      "Enter your guess value:159\n",
      "Close by,You are a True Indian Fan\n",
      "Enter your guess value:170\n",
      "Close by,You are a True Indian Fan\n",
      "Enter your guess value:180\n",
      "You don't watch that much!\n",
      "Enter your guess value:0\n",
      "Reduce your expection for 20-20 cricket\n",
      "Enter your guess value:255\n",
      "Reduce your expection for 20-20 cricket\n",
      "Enter your guess value:169\n",
      "You guessed it right champ..!!\n"
     ]
    }
   ],
   "source": [
    "# Guess Team India Score in 20-20 Cricket\n",
    "\n",
    "import random\n",
    "n = 250\n",
    "score_to_be_guessed = int(n * random.random()) + 1\n",
    "print(score_to_be_guessed)\n",
    "score_guess = 0\n",
    "\n",
    "while score_guess != score_to_be_guessed:\n",
    "    score_guess = int(input(\"Enter your guess value:\"))\n",
    "    diff = score_to_be_guessed - score_guess\n",
    "    if diff!=0:\n",
    "        if score_guess<1 or score_guess>250:\n",
    "            print(\"Reduce your expection for 20-20 cricket\")\n",
    "        elif abs(diff)<=10:\n",
    "            print(\"Close by,You are a True Indian Fan\")\n",
    "        elif abs(diff)>10:\n",
    "            print(\"You don't watch that much!\")\n",
    "else:\n",
    "    print(\"You guessed it right champ..!!\")"
   ]
  },
  {
   "cell_type": "markdown",
   "metadata": {},
   "source": [
    "# Question 3:"
   ]
  },
  {
   "cell_type": "code",
   "execution_count": 5,
   "metadata": {},
   "outputs": [
    {
     "name": "stdout",
     "output_type": "stream",
     "text": [
      "I love FCS\n"
     ]
    }
   ],
   "source": [
    "# File Handling\n",
    "file=open(\"FCSDemoTextFile.txt\",'w')\n",
    "file.write(\"I love FCS\")\n",
    "file.close()\n",
    "file1=open(\"FCSDemoTextFile.txt\",'r')\n",
    "print(file1.read())\n",
    "file1.close()"
   ]
  },
  {
   "cell_type": "markdown",
   "metadata": {},
   "source": [
    "# Question 4:"
   ]
  },
  {
   "cell_type": "code",
   "execution_count": 1,
   "metadata": {},
   "outputs": [
    {
     "name": "stdout",
     "output_type": "stream",
     "text": [
      "Enter number of photos: 4\n",
      "Enter Length: 250\n",
      "Entered Length is: 250\n",
      "Enter Width: 260\n",
      "Enter Height: 270\n",
      "Number of photos uploaded is  1  Width is  260  Height is  270\n",
      "CROP IT\n",
      "Enter Length: 300\n",
      "Entered Length is: 300\n",
      "Enter Width: 250\n",
      "Enter Height: 310\n",
      "Number of photos uploaded is  2  Width is  250  Height is  310\n",
      "UPLOAD ANOTHER\n",
      "Enter Length: 250\n",
      "Entered Length is: 250\n",
      "Enter Width: 260\n",
      "Enter Height: 260\n",
      "Number of photos uploaded is  3  Width is  260  Height is  260\n",
      "ACCEPTED\n"
     ]
    }
   ],
   "source": [
    "# Upload Profile Photo for Roy on FB\n",
    "\n",
    "N=int(input(\"Enter number of photos: \"))\n",
    "updated=False\n",
    "\n",
    "while updated!=True:\n",
    "    \n",
    "    if N>=1 and N<=1000:\n",
    "        \n",
    "        for i in range(1,N):\n",
    "            \n",
    "            L=int(input(\"Enter Length: \"))\n",
    "            print(\"Entered Length is:\",L)\n",
    "            W=int(input(\"Enter Width: \"))\n",
    "            H=int(input(\"Enter Height: \"))\n",
    "            print(\"Number of photos uploaded is \",i ,\" Width is \",W, \" Height is \",H)\n",
    "            \n",
    "            if (W>=1 and W<=10000) and (H>=1 and H<=10000):\n",
    "                if (W<L) or (H<L):\n",
    "                    print(\"UPLOAD ANOTHER\")\n",
    "        \n",
    "                elif (W and H)>=L:\n",
    "        \n",
    "                    if W*H == W**2:\n",
    "                        print(\"ACCEPTED\") \n",
    "                        updated=True\n",
    "                        break\n",
    "        \n",
    "                    else:\n",
    "                        print(\"CROP IT\")\n",
    "            \n",
    "    else:\n",
    "        print(\"PLEASE UPLOAD A PHOTO TO CONTINUE..\")    "
   ]
  }
 ],
 "metadata": {
  "kernelspec": {
   "display_name": "Python 3",
   "language": "python",
   "name": "python3"
  },
  "language_info": {
   "codemirror_mode": {
    "name": "ipython",
    "version": 3
   },
   "file_extension": ".py",
   "mimetype": "text/x-python",
   "name": "python",
   "nbconvert_exporter": "python",
   "pygments_lexer": "ipython3",
   "version": "3.7.6"
  }
 },
 "nbformat": 4,
 "nbformat_minor": 4
}
