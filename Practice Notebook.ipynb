{
 "cells": [
  {
   "cell_type": "code",
   "execution_count": null,
   "metadata": {},
   "outputs": [],
   "source": [
    "Create a Dog class, instantiate three new dogs, each with a different age. \n",
    "Then write a function called, get_biggest_number(), that takes any number of ages (*args) and\n",
    "returns the oldest one.\n",
    "\n",
    "Output Format:\n",
    "The oldest dog is (\"Age of the dog\") years old. Its name is (\"Name of the Dog\")."
   ]
  },
  {
   "cell_type": "code",
   "execution_count": null,
   "metadata": {},
   "outputs": [],
   "source": [
    "class Dog():\n",
    "    species='mammal'\n",
    "    \n",
    "    def __init__(self,name,age):\n",
    "        self.name=name\n",
    "        self.age=age\n",
    "    \n",
    "    def get_biggest_number(*args):\n",
    "        \n",
    "        if dog1.age> dog2.age and dog1.age> dog3.age:\n",
    "            return \"The oldest dog is {} years old. Its name is {}\".format(dog1.age,dog1.name)\n",
    "        elif dog2.age>dog1.age and dog2.age>dog3.age:\n",
    "            return \"The oldest dog is {} years old. Its name is {}\".format(dog2.age,dog2.name)\n",
    "        else:\n",
    "            return \"The oldest dog is {} years old. Its name is {}\".format(dog3.age,dog3.name)\n",
    "        \n",
    "        \n",
    "dog1=Dog(\"Harry\",3)\n",
    "# dog2=Dog(\"Jimmy\",10) \n",
    "# dog3=Dog(\"Sam\",6)\n",
    "#Dog.get_biggest_number()\n",
    "dog1.get_biggest_number()"
   ]
  },
  {
   "cell_type": "code",
   "execution_count": null,
   "metadata": {},
   "outputs": [],
   "source": [
    "#Create a cone class with two attributes and methods\n",
    "\n",
    "from math import pi\n",
    "from math import sqrt\n",
    "\n",
    "class Cone():\n",
    "    \n",
    "    def __init__(self,r,h):\n",
    "        self.r=r\n",
    "        self.h=h\n",
    "    \n",
    "    def Volume(self):\n",
    "        r=self.r\n",
    "        h=self.h\n",
    "        volumeOfCone=pi * (r**2) *(h /3)\n",
    "        print(\"Volume of cone is:\" ,volumeOfCone)\n",
    "    \n",
    "    def SurfaceArea(self):\n",
    "        base=pi * (self.r**2)\n",
    "        side=pi * self.r * (sqrt((self.r**2) + (self.h**2)))\n",
    "        print(\"Base of cone is:\" ,base)\n",
    "        print(\"Side of cone is:\" ,side)\n",
    "\n",
    "vol=Cone(2,6)\n",
    "vol.Volume()\n",
    "\n",
    "# csa=Cone(4,7)\n",
    "# csa.SurfaceArea()"
   ]
  },
  {
   "cell_type": "code",
   "execution_count": null,
   "metadata": {},
   "outputs": [],
   "source": [
    "class account():\n",
    "    def init (self,owner,balance):\n",
    "        self.owner = owner\n",
    "        self.balance = balance\n",
    "        \n",
    "    def withdrawl(owner,balance):\n",
    "        again = 'y'\n",
    "        while balance > 0 and again != 'N' :\n",
    "            amounttobewithdrawn = int(input(\"Enter the amount to be withdrawn : \",))\n",
    "            if(amounttobewithdrawn <= balance):\n",
    "                balance = abs(balance-amounttobewithdrawn)\n",
    "                print(\"Hell0 {} sir/madam the balance amount is : {} \".format(owner,balance))\n",
    "                again = input(\"If you want to continue again press Y else N : \").upper()\n",
    "            else:\n",
    "                print (\"You have exceeded the limit......Your current balance is : {} \".format(balance) )\n",
    "                \n",
    "        print (\"withdrawal process is over, your current balance is : {}\".format(balance))\n",
    "        \n",
    "        print (\"............xxxxxx THANK YOU VISIT US AGAIN xxxxxx.........\")\n",
    "        \n",
    "    def deposit(owner,balanceamnt):\n",
    "        again = 'y'\n",
    "        while (balanceamnt >= 0 and again != 'N'):\n",
    "            amounttobedeposited = int(input(\"Enter the amount to be deposited : \",))\n",
    "            #if(amounttobedeposited < 0):\n",
    "            if (amounttobedeposited > 0):\n",
    "                balanceamnt = balanceamnt+amounttobedeposited\n",
    "                print(\"Hell0 {} sir/madam the balance amount is : {} \".format(owner,balanceamnt))\n",
    "                again = input(\"If you want to continue again press Y else N : \").upper()\n",
    "            else:\n",
    "                print (\"Enter a valid amount to deposit .......... Your current balance is : {}\".format(balanceamnt))\n",
    "                \n",
    "        print (\"Deposit process is over, your current balance is : {}\".format(balanceamnt))\n",
    "        \n",
    "        print (\"............xxxxxx THANK YOU VISIT US AGAIN xxxxxx.........\")\n",
    "    \n",
    "    \n",
    "account.withdrawl(\"Sai\",5000)\n",
    "account.deposit(\"Sairam\",5000)"
   ]
  },
  {
   "cell_type": "code",
   "execution_count": null,
   "metadata": {},
   "outputs": [],
   "source": [
    "def prime():\n",
    "    listofnum=list(range(1,10))\n",
    "    print(listofnum)\n",
    "    a=len(range(2,10))\n",
    "    b=0\n",
    "    while (b<=a):\n",
    "        for i in listofnum:\n",
    "            if i%i==0 and i%1==0 and i%2==0:\n",
    "                print(\"Not prime\",i)\n",
    "                b+=1\n",
    "            else:\n",
    "                print(\"Prime\",i)\n",
    "                \n",
    "prime()"
   ]
  },
  {
   "cell_type": "code",
   "execution_count": null,
   "metadata": {},
   "outputs": [],
   "source": [
    "def prime():\n",
    "    listofnum=list(range(1,10))\n",
    "    print(listofnum)\n",
    "    a=len(range(2,10))\n",
    "    b=0\n",
    "    while (b<=a):\n",
    "        for i in listofnum:\n",
    "            if i%i==0 and i%1==0 and i%2==0:\n",
    "                print(\"Not prime\",i)\n",
    "                b+=1\n",
    "            else:\n",
    "                print(\"Prime\",i)\n",
    "                \n",
    "prime()"
   ]
  },
  {
   "cell_type": "code",
   "execution_count": null,
   "metadata": {},
   "outputs": [],
   "source": [
    "def userinput1():\n",
    "    n = int(input(\"Enter value for n:\"))\n",
    "    return n\n",
    "\n",
    "def userinput2():    \n",
    "    k = int(input(\"Enter value for k:\"))\n",
    "    return k\n",
    "\n",
    "def test(n,k):\n",
    "    #Checking k is prime or not\n",
    "    a = False\n",
    "    if k > 2:    \n",
    "        for i in range (2,n):\n",
    "            if k % i == 0:\n",
    "                a = False\n",
    "                return False\n",
    "                #print (\"Entered invalid 'k' value\")\n",
    "                break\n",
    "            else:\n",
    "                a = True\n",
    "                return True\n",
    "                #print(\"'k' is prime\")\n",
    "    elif k == 2:\n",
    "        a = True\n",
    "        return True\n",
    "        #print(\"'k' is prime\")\n",
    "    else:\n",
    "        a = False\n",
    "        return False\n",
    "        #print(\"Entered invalid 'k' value\")\n",
    "    \n",
    "    #Getting multiples of k for range(1,n) \n",
    "def multiples(z,n,k):\n",
    "    #b = test()\n",
    "    print(z)\n",
    "    some = False\n",
    "    if z == True:\n",
    "        mul = 0\n",
    "        div = 0\n",
    "        aaa= list(range(1,n))\n",
    "        aa = []\n",
    "        for i in range(1,n):\n",
    "            if i % k == 0:\n",
    "                mul = i\n",
    "                i += 1\n",
    "            else:\n",
    "                continue\n",
    "            print(\"Multiples of {} is:\".format(k),mul)\n",
    "            #Get divisors\n",
    "            if mul != 0 and mul % k == 0:\n",
    "                some = True\n",
    "                div = mul // k\n",
    "#                 aa.append(div)\n",
    "#                 print(aa)\n",
    "                i += 1\n",
    "            else:\n",
    "                continue\n",
    "            print(\"Divisors of {} is:\".format(k),div)\n",
    "    aaaa = [i//k if i % k == 0 else i for i in aaa]\n",
    "    print(aaaa)\n",
    "    print(sum(aaaa))\n",
    "        \n",
    "\n",
    "def result():\n",
    "    input1 = userinput1()\n",
    "    input2 = userinput2()\n",
    "    primecheck = test(input1,input2)\n",
    "    getmultiples = multiples(primecheck,input1,input2)\n",
    "#     listofval = list(range(input1,input2))\n",
    "#     aaa = [div if mul ]\n",
    "\n",
    "result()"
   ]
  },
  {
   "cell_type": "code",
   "execution_count": null,
   "metadata": {},
   "outputs": [],
   "source": []
  },
  {
   "cell_type": "code",
   "execution_count": null,
   "metadata": {},
   "outputs": [],
   "source": []
  },
  {
   "cell_type": "code",
   "execution_count": 11,
   "metadata": {},
   "outputs": [
    {
     "name": "stdout",
     "output_type": "stream",
     "text": [
      "Enter value for n:1000000\n",
      "Enter value for k:7\n",
      "'k' is prime\n",
      "original_list is: "
     ]
    },
    {
     "name": "stderr",
     "output_type": "stream",
     "text": [
      "IOPub data rate exceeded.\n",
      "The notebook server will temporarily stop sending output\n",
      "to the client in order to avoid crashing it.\n",
      "To change this limit, set the config variable\n",
      "`--NotebookApp.iopub_data_rate_limit`.\n",
      "\n",
      "Current values:\n",
      "NotebookApp.iopub_data_rate_limit=1000000.0 (bytes/sec)\n",
      "NotebookApp.rate_limit_window=3.0 (secs)\n",
      "\n"
     ]
    }
   ],
   "source": [
    "def userinput1():\n",
    "    n = int(input(\"Enter value for n:\"))\n",
    "    return n\n",
    "\n",
    "def userinput2():    \n",
    "    k = int(input(\"Enter value for k:\"))\n",
    "    return k\n",
    "\n",
    "def test(n,k):\n",
    "    #Checking k is prime or not\n",
    "    if k > 2:    \n",
    "        for i in range (2,k):\n",
    "            if k % i == 0:\n",
    "                print (\"Entered invalid 'k' value\")\n",
    "                break\n",
    "        else:\n",
    "            print(\"'k' is prime\")\n",
    "    elif k == 2:\n",
    "        print(\"'k' is prime\")\n",
    "    else:\n",
    "        print(\"Invalid 'k'\")\n",
    "\n",
    "    original_list = []\n",
    "    \n",
    "    for i in range(1,n+1):\n",
    "        if (i % k == 0):\n",
    "            abc = i//k\n",
    "            while(abc%k==0):\n",
    "                cba = abc//k\n",
    "                abc = cba\n",
    "            original_list.append(abc)\n",
    "        else:\n",
    "            original_list.append(i)\n",
    "    print(\"original_list is:\",original_list)\n",
    "    print(sum(original_list))\n",
    "\n",
    "#     change1 = [i//k if i % k == 0 else i for i in original_list]\n",
    "#     print(\"changed list is:\",change1)\n",
    "#     print(sum(change1))\n",
    "    \n",
    "#     change2 = [i//k if i % k == 0 else i for i in change1]\n",
    "#     print(\"change2 list is:\",change2)\n",
    "#     print(sum(change2))\n",
    "    \n",
    "#     change3 = [i//k if i % k == 0 else i for i in change2]\n",
    "#     print(\"change3 list is:\",change3)\n",
    "#     print(sum(change3))\n",
    "\n",
    "def result():\n",
    "    input1 = userinput1()\n",
    "    input2 = userinput2()\n",
    "    primecheck = test(input1,input2)\n",
    "\n",
    "result()"
   ]
  },
  {
   "cell_type": "code",
   "execution_count": 16,
   "metadata": {},
   "outputs": [
    {
     "name": "stdout",
     "output_type": "stream",
     "text": [
      "[1, 5, 3, 4, 3]\n"
     ]
    }
   ],
   "source": [
    "a =[2,5,6,8,3]\n",
    "b=[]\n",
    "i=0\n",
    "c=0\n",
    "j=0\n",
    "while(a[i]%2==0):\n",
    "    a=[i//2 if i%2 ==0 else i for i in a]\n",
    "    b=a.copy()\n",
    "    if b[j]%2==0:\n",
    "        c=j//2\n",
    "        b.append(c)\n",
    "        j+=1\n",
    "        print(b)\n",
    "    i+=1\n",
    "    print(a)\n",
    "    "
   ]
  },
  {
   "cell_type": "code",
   "execution_count": 14,
   "metadata": {},
   "outputs": [
    {
     "name": "stdout",
     "output_type": "stream",
     "text": [
      "Enter number of rows:2\n",
      "Enter number of columns:2\n",
      "8 10 \n",
      "10 5 \n"
     ]
    }
   ],
   "source": [
    "import random\n",
    "import numpy as np\n",
    "\n",
    "rows = int(input(\"Enter number of rows:\"))\n",
    "columns = int(input(\"Enter number of columns:\"))\n",
    "\n",
    "matrix = []\n",
    "\n",
    "for i in range(rows):\n",
    "    a=[]\n",
    "    for j in range(columns):\n",
    "        a.append(random.randint(1,10))\n",
    "    matrix.append(a)\n",
    "\n",
    "for i in range(rows):\n",
    "    for j in range(columns):\n",
    "        print(matrix[i][j] , end = \" \")\n",
    "    print()"
   ]
  },
  {
   "cell_type": "code",
   "execution_count": 3,
   "metadata": {},
   "outputs": [
    {
     "name": "stdout",
     "output_type": "stream",
     "text": [
      "70\n",
      "71\n",
      "72\n",
      "73\n",
      "74\n",
      "75\n",
      "76\n",
      "77\n",
      "78\n",
      "79\n",
      "80\n"
     ]
    }
   ],
   "source": [
    "for num in range(ord('F'),ord('Q')):\n",
    "    print (num)"
   ]
  },
  {
   "cell_type": "code",
   "execution_count": 19,
   "metadata": {},
   "outputs": [],
   "source": [
    "def transcript():\n",
    "    n = input(\"Enter value:\").upper()\n",
    "    if n.isupper():\n",
    "        if n == \"G\":\n",
    "            return \"C\"\n",
    "        elif n == \"C\":\n",
    "            return \"G\"\n",
    "        elif n == \"T\":\n",
    "            return \"A\"\n",
    "        elif n == \"A\":\n",
    "            return \"U\"\n",
    "        else:\n",
    "            return \"Invalid Input\""
   ]
  },
  {
   "cell_type": "code",
   "execution_count": 20,
   "metadata": {},
   "outputs": [
    {
     "name": "stdout",
     "output_type": "stream",
     "text": [
      "Enter value:g\n"
     ]
    },
    {
     "data": {
      "text/plain": [
       "'C'"
      ]
     },
     "execution_count": 20,
     "metadata": {},
     "output_type": "execute_result"
    }
   ],
   "source": [
    "transcript()"
   ]
  },
  {
   "cell_type": "code",
   "execution_count": null,
   "metadata": {},
   "outputs": [],
   "source": []
  },
  {
   "cell_type": "code",
   "execution_count": null,
   "metadata": {},
   "outputs": [],
   "source": []
  },
  {
   "cell_type": "markdown",
   "metadata": {},
   "source": [
    "### "
   ]
  }
 ],
 "metadata": {
  "kernelspec": {
   "display_name": "Python 3",
   "language": "python",
   "name": "python3"
  },
  "language_info": {
   "codemirror_mode": {
    "name": "ipython",
    "version": 3
   },
   "file_extension": ".py",
   "mimetype": "text/x-python",
   "name": "python",
   "nbconvert_exporter": "python",
   "pygments_lexer": "ipython3",
   "version": "3.7.6"
  }
 },
 "nbformat": 4,
 "nbformat_minor": 4
}
