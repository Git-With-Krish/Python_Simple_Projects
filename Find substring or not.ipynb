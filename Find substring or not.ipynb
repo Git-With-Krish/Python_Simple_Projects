{
 "cells": [
  {
   "cell_type": "code",
   "execution_count": 1,
   "metadata": {},
   "outputs": [],
   "source": [
    "# Hello , world --> Yes\n",
    "# Hi , world --> No"
   ]
  },
  {
   "cell_type": "code",
   "execution_count": 23,
   "metadata": {},
   "outputs": [],
   "source": [
    "def userInput1():\n",
    "    str1 = input(\"Word1: \")\n",
    "    list1 = list(str1)\n",
    "    return(list1)\n",
    "\n",
    "def userInput2():\n",
    "    str2 = input(\"Word2: \")\n",
    "    list2 = list(str2)\n",
    "    return(list2)"
   ]
  },
  {
   "cell_type": "code",
   "execution_count": 34,
   "metadata": {},
   "outputs": [],
   "source": [
    "def longlistfinder(list1, list2):\n",
    "    \n",
    "    if len(list1) >= len(list2):\n",
    "        firstlist = list1\n",
    "        secondlist = list2\n",
    "        return firstlist , secondlist\n",
    "    else:\n",
    "        firstlist = list2\n",
    "        secondlist = list1\n",
    "        return secondlist, firstlist\n",
    "    \n",
    "    print(\"List with more charac:\", firstlist)\n",
    "    print(\"List with least charac:\", secondlist)"
   ]
  },
  {
   "cell_type": "code",
   "execution_count": 43,
   "metadata": {},
   "outputs": [],
   "source": [
    "def substringcheck(a):\n",
    "    range1 = len(firstlist)\n",
    "    range2 = len(secondlist)\n",
    "\n",
    "    for i in range(range1):\n",
    "        for j in range(range2):\n",
    "            if secondlist[j] == firstlist[i]:\n",
    "                print(\"Substring in str2:\", secondlist[j])\n",
    "                print(\"Substring in str1:\", firstlist[i])\n",
    "                return(\"YES\")\n",
    "            else:\n",
    "                j += 1\n",
    "        i += 1\n",
    "    return(\"NO\")"
   ]
  },
  {
   "cell_type": "code",
   "execution_count": 44,
   "metadata": {},
   "outputs": [
    {
     "name": "stdout",
     "output_type": "stream",
     "text": [
      "Word1: hello\n",
      "Word2: world\n"
     ]
    }
   ],
   "source": [
    "def result():\n",
    "    input1 = userInput1()\n",
    "    input2 = userInput2()\n",
    "    listfinder = longlistfinder(input1, input2)\n",
    "    problem = substringcheck(listfinder)\n",
    "\n",
    "result()"
   ]
  },
  {
   "cell_type": "code",
   "execution_count": null,
   "metadata": {},
   "outputs": [],
   "source": []
  },
  {
   "cell_type": "code",
   "execution_count": null,
   "metadata": {},
   "outputs": [],
   "source": []
  },
  {
   "cell_type": "code",
   "execution_count": 40,
   "metadata": {},
   "outputs": [
    {
     "name": "stdout",
     "output_type": "stream",
     "text": [
      "Word1: hello\n",
      "['h', 'e', 'l', 'l', 'o']\n",
      "Word2: world\n",
      "['w', 'o', 'r', 'l', 'd']\n",
      "List with more charac: ['h', 'e', 'l', 'l', 'o']\n",
      "List with least charac: ['w', 'o', 'r', 'l', 'd']\n",
      "Substring in str2: l\n",
      "Substring in str1: l\n"
     ]
    },
    {
     "data": {
      "text/plain": [
       "'YES'"
      ]
     },
     "execution_count": 40,
     "metadata": {},
     "output_type": "execute_result"
    }
   ],
   "source": [
    "def substringcheck():\n",
    "    str1 = input(\"Word1: \")\n",
    "    list1 = list(str1)\n",
    "    print(list1)\n",
    "    \n",
    "    str2 = input(\"Word2: \")\n",
    "    list2 = list(str2)\n",
    "    print(list2)\n",
    "    \n",
    "    if len(list1) >= len(list2):\n",
    "        firstlist = list1\n",
    "        secondlist = list2\n",
    "        \n",
    "    else:\n",
    "        firstlist = list2\n",
    "        secondlist = list1\n",
    "    \n",
    "    print(\"List with more charac:\", firstlist)\n",
    "    print(\"List with least charac:\", secondlist)\n",
    "    \n",
    "    range1 = len(firstlist)\n",
    "    range2 = len(secondlist)\n",
    "\n",
    "    for i in range(range1):\n",
    "        for j in range(range2):\n",
    "            if secondlist[j] == firstlist[i]:\n",
    "                print(\"Substring in str2:\", secondlist[j])\n",
    "                print(\"Substring in str1:\", firstlist[i])\n",
    "                return(\"YES\")\n",
    "            else:\n",
    "                j += 1\n",
    "        i += 1\n",
    "    return(\"NO\")\n",
    "\n",
    "substringcheck()"
   ]
  },
  {
   "cell_type": "code",
   "execution_count": null,
   "metadata": {},
   "outputs": [],
   "source": []
  }
 ],
 "metadata": {
  "kernelspec": {
   "display_name": "Python 3",
   "language": "python",
   "name": "python3"
  },
  "language_info": {
   "codemirror_mode": {
    "name": "ipython",
    "version": 3
   },
   "file_extension": ".py",
   "mimetype": "text/x-python",
   "name": "python",
   "nbconvert_exporter": "python",
   "pygments_lexer": "ipython3",
   "version": "3.7.6"
  }
 },
 "nbformat": 4,
 "nbformat_minor": 4
}
