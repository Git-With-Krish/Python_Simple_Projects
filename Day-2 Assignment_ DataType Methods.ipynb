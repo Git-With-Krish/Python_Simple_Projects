{
 "cells": [
  {
   "cell_type": "markdown",
   "metadata": {},
   "source": [
    "# List Methods"
   ]
  },
  {
   "cell_type": "code",
   "execution_count": 19,
   "metadata": {},
   "outputs": [
    {
     "data": {
      "text/plain": [
       "[1234, 'qwerty', 23.5, 'Appended']"
      ]
     },
     "execution_count": 19,
     "metadata": {},
     "output_type": "execute_result"
    }
   ],
   "source": [
    "#Append()--Adds value at the end of the list\n",
    "list1 = [1234,\"qwerty\",23.5]\n",
    "list1.append(\"Appended\")\n",
    "list1"
   ]
  },
  {
   "cell_type": "code",
   "execution_count": 2,
   "metadata": {},
   "outputs": [
    {
     "data": {
      "text/plain": [
       "[1234, 'qwerty', 'Inserted', 23.5, 'Appended']"
      ]
     },
     "execution_count": 2,
     "metadata": {},
     "output_type": "execute_result"
    }
   ],
   "source": [
    "#insert()-- Inserts value in the list based on index and value passed as input \n",
    "list1.insert(2,'Inserted')\n",
    "list1"
   ]
  },
  {
   "cell_type": "code",
   "execution_count": 3,
   "metadata": {},
   "outputs": [
    {
     "data": {
      "text/plain": [
       "[1234, 'qwerty', 'Inserted', 23.5, 'Appended']"
      ]
     },
     "execution_count": 3,
     "metadata": {},
     "output_type": "execute_result"
    }
   ],
   "source": [
    "#copy()--Copies one list to other and returns a new list\n",
    "my_list=list1.copy()\n",
    "my_list"
   ]
  },
  {
   "cell_type": "code",
   "execution_count": 5,
   "metadata": {},
   "outputs": [
    {
     "data": {
      "text/plain": [
       "3"
      ]
     },
     "execution_count": 5,
     "metadata": {},
     "output_type": "execute_result"
    }
   ],
   "source": [
    "#index()--Returns the index of value, passed as input, in the list\n",
    "my_list.index(23.5)"
   ]
  },
  {
   "cell_type": "code",
   "execution_count": 131,
   "metadata": {},
   "outputs": [
    {
     "name": "stdout",
     "output_type": "stream",
     "text": [
      "[1234, 'qwerty', 23.5, 'Appended', 'something', 1234, 45.67]\n"
     ]
    }
   ],
   "source": [
    "#Extend()--Adds element to the list at the end\n",
    "aa=(\"something\",1234,45.67)\n",
    "my_list.extend(aa)\n",
    "print(my_list)"
   ]
  },
  {
   "cell_type": "code",
   "execution_count": 132,
   "metadata": {},
   "outputs": [
    {
     "data": {
      "text/plain": [
       "2"
      ]
     },
     "execution_count": 132,
     "metadata": {},
     "output_type": "execute_result"
    }
   ],
   "source": [
    "#count()--Returns number of times the value, passed as input, is present in the list\n",
    "my_list.count(1234)"
   ]
  },
  {
   "cell_type": "code",
   "execution_count": 125,
   "metadata": {},
   "outputs": [
    {
     "data": {
      "text/plain": [
       "['Appended', 23.5, 'qwerty', 1234]"
      ]
     },
     "execution_count": 125,
     "metadata": {},
     "output_type": "execute_result"
    }
   ],
   "source": [
    "#reverse()--Reverses the entire list\n",
    "list1.reverse()\n",
    "list1"
   ]
  },
  {
   "cell_type": "code",
   "execution_count": 13,
   "metadata": {},
   "outputs": [
    {
     "data": {
      "text/plain": [
       "['Appended', 23.5, 'Inserted', 'qwerty']"
      ]
     },
     "execution_count": 13,
     "metadata": {},
     "output_type": "execute_result"
    }
   ],
   "source": [
    "#pop()--Removes last value in the list\n",
    "list1.pop()\n",
    "list1"
   ]
  },
  {
   "cell_type": "code",
   "execution_count": 15,
   "metadata": {},
   "outputs": [
    {
     "data": {
      "text/plain": [
       "[23.5, 'Inserted', 'qwerty']"
      ]
     },
     "execution_count": 15,
     "metadata": {},
     "output_type": "execute_result"
    }
   ],
   "source": [
    "#remove()--Removes the value specified from the list\n",
    "list1.remove('Appended')\n",
    "list1"
   ]
  },
  {
   "cell_type": "code",
   "execution_count": 16,
   "metadata": {},
   "outputs": [],
   "source": [
    "#clear()--Deletes the list completely\n",
    "list1.clear()"
   ]
  },
  {
   "cell_type": "code",
   "execution_count": 17,
   "metadata": {},
   "outputs": [
    {
     "data": {
      "text/plain": [
       "[]"
      ]
     },
     "execution_count": 17,
     "metadata": {},
     "output_type": "execute_result"
    }
   ],
   "source": [
    "list1"
   ]
  },
  {
   "cell_type": "code",
   "execution_count": 21,
   "metadata": {},
   "outputs": [
    {
     "data": {
      "text/plain": [
       "['AI', 'Datascience', 'ML', 'Python']"
      ]
     },
     "execution_count": 21,
     "metadata": {},
     "output_type": "execute_result"
    }
   ],
   "source": [
    "#sort() -- For sorting value should be of same datatype\n",
    "new_list=[\"AI\",\"ML\",\"Python\",\"Datascience\"]\n",
    "new_list.sort()\n",
    "new_list"
   ]
  },
  {
   "cell_type": "markdown",
   "metadata": {},
   "source": [
    "# Tuple Methods"
   ]
  },
  {
   "cell_type": "code",
   "execution_count": 23,
   "metadata": {},
   "outputs": [
    {
     "data": {
      "text/plain": [
       "('AI', 'Datascience', 'ML', 'Python')"
      ]
     },
     "execution_count": 23,
     "metadata": {},
     "output_type": "execute_result"
    }
   ],
   "source": [
    "#List to tuple convertion\n",
    "my_tuple=tuple(new_list)\n",
    "my_tuple"
   ]
  },
  {
   "cell_type": "code",
   "execution_count": 24,
   "metadata": {},
   "outputs": [
    {
     "data": {
      "text/plain": [
       "1"
      ]
     },
     "execution_count": 24,
     "metadata": {},
     "output_type": "execute_result"
    }
   ],
   "source": [
    "#count()--Returns number of times the value passed as input is present in the tuple\n",
    "my_tuple.count(\"AI\")"
   ]
  },
  {
   "cell_type": "code",
   "execution_count": 26,
   "metadata": {},
   "outputs": [
    {
     "data": {
      "text/plain": [
       "3"
      ]
     },
     "execution_count": 26,
     "metadata": {},
     "output_type": "execute_result"
    }
   ],
   "source": [
    "#index()--Returns the index of the value passed as input\n",
    "my_tuple.index(\"Python\")"
   ]
  },
  {
   "cell_type": "code",
   "execution_count": 27,
   "metadata": {},
   "outputs": [],
   "source": [
    "#deleting my_tuple\n",
    "del my_tuple"
   ]
  },
  {
   "cell_type": "code",
   "execution_count": 28,
   "metadata": {},
   "outputs": [
    {
     "ename": "NameError",
     "evalue": "name 'my_tuple' is not defined",
     "output_type": "error",
     "traceback": [
      "\u001b[1;31m---------------------------------------------------------------------------\u001b[0m",
      "\u001b[1;31mNameError\u001b[0m                                 Traceback (most recent call last)",
      "\u001b[1;32m<ipython-input-28-04b36b148cc9>\u001b[0m in \u001b[0;36m<module>\u001b[1;34m\u001b[0m\n\u001b[1;32m----> 1\u001b[1;33m \u001b[0mmy_tuple\u001b[0m\u001b[1;33m\u001b[0m\u001b[1;33m\u001b[0m\u001b[0m\n\u001b[0m",
      "\u001b[1;31mNameError\u001b[0m: name 'my_tuple' is not defined"
     ]
    }
   ],
   "source": [
    "#Since my_tuple is deleted in above step, it throws a NameError\n",
    "my_tuple"
   ]
  },
  {
   "cell_type": "markdown",
   "metadata": {},
   "source": [
    "# Set Methods"
   ]
  },
  {
   "cell_type": "code",
   "execution_count": 29,
   "metadata": {},
   "outputs": [
    {
     "data": {
      "text/plain": [
       "{1234, 23.5, 'Appended', 'qwerty'}"
      ]
     },
     "execution_count": 29,
     "metadata": {},
     "output_type": "execute_result"
    }
   ],
   "source": [
    "#Converting list to set\n",
    "my_set=set(list1)\n",
    "my_set"
   ]
  },
  {
   "cell_type": "code",
   "execution_count": 34,
   "metadata": {},
   "outputs": [
    {
     "data": {
      "text/plain": [
       "{1234, 14, 23.5, 34, 'Adding', 'Appended', 'qwerty'}"
      ]
     },
     "execution_count": 34,
     "metadata": {},
     "output_type": "execute_result"
    }
   ],
   "source": [
    "#add()--Add elements to the given set\n",
    "my_set.add('Adding')\n",
    "my_set.add(34)\n",
    "my_set.add(14)\n",
    "my_set"
   ]
  },
  {
   "cell_type": "code",
   "execution_count": 35,
   "metadata": {},
   "outputs": [
    {
     "data": {
      "text/plain": [
       "{1234, 14, 23.5, 34, 'Adding', 'Appended', 'qwerty'}"
      ]
     },
     "execution_count": 35,
     "metadata": {},
     "output_type": "execute_result"
    }
   ],
   "source": [
    "#copy--Copies a set to other set\n",
    "copy_my_set=my_set.copy()\n",
    "copy_my_set"
   ]
  },
  {
   "cell_type": "code",
   "execution_count": 62,
   "metadata": {},
   "outputs": [
    {
     "data": {
      "text/plain": [
       "{1234, 23.5, 'Adding', 'Appended', 'Python', 'qwerty'}"
      ]
     },
     "execution_count": 62,
     "metadata": {},
     "output_type": "execute_result"
    }
   ],
   "source": [
    "#discard()--Removes the value which is specified from the set\n",
    "my_set.discard(34)\n",
    "my_set"
   ]
  },
  {
   "cell_type": "code",
   "execution_count": 63,
   "metadata": {},
   "outputs": [
    {
     "name": "stdout",
     "output_type": "stream",
     "text": [
      "{'qwerty', 'BMW', 'Nissan', 'Audi', 'Hyundai', 'Mini', 1234, 'Python', 'Adding', 23.5, 'Appended'}\n"
     ]
    }
   ],
   "source": [
    "#update()--Updates contents to set1(new_set) from set2(my_set)\n",
    "new_set={\"BMW\",\"Mini\",\"Nissan\",\"Audi\",\"Hyundai\"}\n",
    "new_set.update(my_set)\n",
    "print(new_set)"
   ]
  },
  {
   "cell_type": "code",
   "execution_count": 69,
   "metadata": {},
   "outputs": [
    {
     "name": "stdout",
     "output_type": "stream",
     "text": [
      "{'apples', 'qwerty', 34, 'Updating', 14, 'mangoes', 1234, 'Python', 23.5, 'Adding', 'lemons', 'Appended'}\n"
     ]
    }
   ],
   "source": [
    "#union()--Join two sets\n",
    "new_set1={\"apples\",\"mangoes\",\"lemons\"}\n",
    "union_set=new_set1.union(copy_my_set)\n",
    "print(union_set)"
   ]
  },
  {
   "cell_type": "code",
   "execution_count": 70,
   "metadata": {},
   "outputs": [
    {
     "name": "stdout",
     "output_type": "stream",
     "text": [
      "{'mangoes', 'apples', 'lemons'}\n"
     ]
    }
   ],
   "source": [
    "#difference()--Returns a set with elements which are dissimilar from both the sets\n",
    "diff_set=union_set.difference(copy_my_set)\n",
    "print(diff_set)"
   ]
  },
  {
   "cell_type": "code",
   "execution_count": 80,
   "metadata": {},
   "outputs": [
    {
     "name": "stdout",
     "output_type": "stream",
     "text": [
      "my_set is: {'qwerty', 1234, 'Python', 'Adding', 23.5, 'Appended'}\n",
      "new_set is: {'qwerty', 'BMW', 'Nissan', 'Mini', 1234, 'Python'}\n",
      "After difference_update() new_set is: {'BMW', 'Nissan', 'Mini'}\n"
     ]
    }
   ],
   "source": [
    "#difference_update()--Returns a set with dissimilar elements and removes other elements from the set initialised at first\n",
    "\n",
    "print(\"my_set is:\",my_set)\n",
    "new_set={'qwerty', 1234, 'Python','BMW', 'Nissan', 'Mini'}\n",
    "print(\"new_set is:\",new_set)\n",
    "new_set.difference_update(my_set)\n",
    "print(\"After difference_update() new_set is:\",new_set)"
   ]
  },
  {
   "cell_type": "code",
   "execution_count": 83,
   "metadata": {},
   "outputs": [
    {
     "name": "stdout",
     "output_type": "stream",
     "text": [
      "{'qwerty', 'Python', 1234}\n"
     ]
    }
   ],
   "source": [
    "#intersection()--Returns a set with elements which are similar in both the sets\n",
    "abc={\"qwerty\",\"Python\",\"ML\",1234,\"AI\",34.567}\n",
    "inter_set=my_set.intersection(abc)\n",
    "print(inter_set)"
   ]
  },
  {
   "cell_type": "code",
   "execution_count": 84,
   "metadata": {},
   "outputs": [
    {
     "name": "stdout",
     "output_type": "stream",
     "text": [
      "abc set is: {'ML', 'qwerty', 34.567, 'Python', 1234, 'AI'}\n",
      "my_set is: {'qwerty', 1234, 'Python', 'Adding', 23.5, 'Appended'}\n",
      "abc set after intersection_update() is: {'qwerty', 1234, 'Python'}\n"
     ]
    }
   ],
   "source": [
    "#intersection_update-- Removes dissimilar elements from set which is initialised at beginning and returns a set with similar elements from both the sets\n",
    "print(\"abc set is:\",abc)\n",
    "print(\"my_set is:\",my_set)\n",
    "abc.intersection_update(my_set)\n",
    "print(\"abc set after intersection_update() is:\",abc)"
   ]
  },
  {
   "cell_type": "code",
   "execution_count": 85,
   "metadata": {},
   "outputs": [
    {
     "name": "stdout",
     "output_type": "stream",
     "text": [
      "abc set is: {'qwerty', 1234, 'Python'}\n",
      "xyz set is: {'AI', 'ML', 2345670}\n",
      "True\n"
     ]
    }
   ],
   "source": [
    "#isdisjoint()--Returns True if no elements matches in both sets, else returns False\n",
    "print(\"abc set is:\",abc)\n",
    "xyz={'AI','ML',2345670}\n",
    "print(\"xyz set is:\",xyz)\n",
    "dis=xyz.isdisjoint(abc)\n",
    "print(dis)"
   ]
  },
  {
   "cell_type": "code",
   "execution_count": 133,
   "metadata": {},
   "outputs": [
    {
     "name": "stdout",
     "output_type": "stream",
     "text": [
      "abc set is: {'qwerty', 1234, 'Python'}\n",
      "my_set is: {'qwerty', 1234, 'Python', 'Adding', 23.5, 'Appended'}\n",
      "True\n"
     ]
    }
   ],
   "source": [
    "#issubset()--Returns True if all elements present in set1(abc) is in set2(my_set), else False\n",
    "print(\"abc set is:\",abc)\n",
    "print(\"my_set is:\",my_set)\n",
    "z=abc.issubset(my_set)\n",
    "print(z)"
   ]
  },
  {
   "cell_type": "code",
   "execution_count": 6,
   "metadata": {},
   "outputs": [
    {
     "name": "stdout",
     "output_type": "stream",
     "text": [
      "True\n"
     ]
    }
   ],
   "source": [
    "#issuperset()--Returns True if all elements in set2(abc) in set1(my_set), else False\n",
    "m=my_set.issuperset(abc)\n",
    "print(m)"
   ]
  },
  {
   "cell_type": "code",
   "execution_count": 135,
   "metadata": {},
   "outputs": [
    {
     "name": "stdout",
     "output_type": "stream",
     "text": [
      "{'Adding', 23.5, 'Appended'}\n"
     ]
    }
   ],
   "source": [
    "#symmetric_difference()--Returns a set of elements in either A or B but not is intersection\n",
    "sym_dif=abc.symmetric_difference(my_set)\n",
    "print(sym_dif)"
   ]
  },
  {
   "cell_type": "code",
   "execution_count": 136,
   "metadata": {},
   "outputs": [
    {
     "name": "stdout",
     "output_type": "stream",
     "text": [
      "my_set set is: {'qwerty', 1234, 'Python', 'Adding', 23.5, 'Appended'}\n",
      "sym_dif before method call is: {'Adding', 23.5, 'Appended'}\n",
      "sym_dif after symmetric_difference_update() is: {1234, 'qwerty', 'Python'}\n"
     ]
    }
   ],
   "source": [
    "#symmetric_difference_update()--Removes all elements from the sets and inserts values which are different in both sets to seet initialised at first\n",
    "print(\"my_set set is:\",my_set)\n",
    "print(\"sym_dif before method call is:\", sym_dif)\n",
    "sym_dif.symmetric_difference_update(my_set)\n",
    "print(\"sym_dif after symmetric_difference_update() is:\", sym_dif)"
   ]
  },
  {
   "cell_type": "code",
   "execution_count": 137,
   "metadata": {},
   "outputs": [
    {
     "name": "stdout",
     "output_type": "stream",
     "text": [
      "{'qwerty', 1234, 'Python', 'Adding', 'Appended'}\n"
     ]
    }
   ],
   "source": [
    "#remove()--Removes element from the set passed as input\n",
    "my_set.remove(23.5)\n",
    "print(my_set)"
   ]
  },
  {
   "cell_type": "code",
   "execution_count": 139,
   "metadata": {},
   "outputs": [
    {
     "name": "stdout",
     "output_type": "stream",
     "text": [
      "{1234, 'Python', 'Adding', 'Appended'}\n"
     ]
    }
   ],
   "source": [
    "#pop()--Removes an element from the set\n",
    "my_set.pop()\n",
    "print(my_set)"
   ]
  },
  {
   "cell_type": "code",
   "execution_count": 140,
   "metadata": {},
   "outputs": [
    {
     "data": {
      "text/plain": [
       "set()"
      ]
     },
     "execution_count": 140,
     "metadata": {},
     "output_type": "execute_result"
    }
   ],
   "source": [
    "#clear()--Removes all elements from the set completely\n",
    "my_set.clear()\n",
    "my_set"
   ]
  },
  {
   "cell_type": "markdown",
   "metadata": {},
   "source": [
    "# Dictionary Methods"
   ]
  },
  {
   "cell_type": "code",
   "execution_count": 144,
   "metadata": {},
   "outputs": [
    {
     "name": "stdout",
     "output_type": "stream",
     "text": [
      "{1: 'Python', 2: 'AI'}\n"
     ]
    }
   ],
   "source": [
    "#Creating a dictionary\n",
    "my_dict=dict([(1,\"Python\"),(2,\"AI\")])\n",
    "print(my_dict)"
   ]
  },
  {
   "cell_type": "code",
   "execution_count": 148,
   "metadata": {},
   "outputs": [
    {
     "data": {
      "text/plain": [
       "'Python'"
      ]
     },
     "execution_count": 148,
     "metadata": {},
     "output_type": "execute_result"
    }
   ],
   "source": [
    "#get()--Returns the value for the key passed as input\n",
    "my_dict.get(1)"
   ]
  },
  {
   "cell_type": "code",
   "execution_count": 149,
   "metadata": {},
   "outputs": [
    {
     "data": {
      "text/plain": [
       "dict_values(['Python', 'AI'])"
      ]
     },
     "execution_count": 149,
     "metadata": {},
     "output_type": "execute_result"
    }
   ],
   "source": [
    "#values()--Returns all values in the dictionary\n",
    "my_dict.values()"
   ]
  },
  {
   "cell_type": "code",
   "execution_count": 150,
   "metadata": {},
   "outputs": [
    {
     "data": {
      "text/plain": [
       "dict_keys([1, 2])"
      ]
     },
     "execution_count": 150,
     "metadata": {},
     "output_type": "execute_result"
    }
   ],
   "source": [
    "#keys()--Returns all keys in the dictionary\n",
    "my_dict.keys()"
   ]
  },
  {
   "cell_type": "code",
   "execution_count": 155,
   "metadata": {},
   "outputs": [
    {
     "name": "stdout",
     "output_type": "stream",
     "text": [
      "{1: 'Python', 2: 'AI', 3: 'ML'}\n"
     ]
    }
   ],
   "source": [
    "#update()--Insert items to the dictionary \n",
    "my_dict.update({3:\"ML\"})\n",
    "print(my_dict)"
   ]
  },
  {
   "cell_type": "code",
   "execution_count": 162,
   "metadata": {},
   "outputs": [
    {
     "name": "stdout",
     "output_type": "stream",
     "text": [
      "{'a': ('Python', 'Java'), 'b': ('Python', 'Java')}\n"
     ]
    }
   ],
   "source": [
    "#fromkeys()--Returns a dictionary with specified keys\n",
    "keys='a','b'\n",
    "value=\"Python\",\"Java\"\n",
    "dict1=dict.fromkeys(keys,value)\n",
    "print(dict1)"
   ]
  },
  {
   "cell_type": "code",
   "execution_count": 164,
   "metadata": {},
   "outputs": [
    {
     "name": "stdout",
     "output_type": "stream",
     "text": [
      "{1: 'Python', 2: 'AI', 3: 'ML'}\n"
     ]
    }
   ],
   "source": [
    "#copy()--Copies one dictionary to other\n",
    "dict1=my_dict.copy()\n",
    "print(dict1)"
   ]
  },
  {
   "cell_type": "code",
   "execution_count": 165,
   "metadata": {},
   "outputs": [
    {
     "name": "stdout",
     "output_type": "stream",
     "text": [
      "dict_items([(1, 'Python'), (2, 'AI'), (3, 'ML')])\n"
     ]
    }
   ],
   "source": [
    "#items()--Returns a key-value pair\n",
    "x=dict1.items()\n",
    "print(x)"
   ]
  },
  {
   "cell_type": "code",
   "execution_count": 170,
   "metadata": {},
   "outputs": [
    {
     "name": "stdout",
     "output_type": "stream",
     "text": [
      "Python\n",
      "Java\n"
     ]
    }
   ],
   "source": [
    "#setdefault()--Returns value for the specified key, if key does not exit, creates it and returns the value passed as input\n",
    "z=my_dict.setdefault(1,\"Look\")\n",
    "y=my_dict.setdefault(\"Tech\",\"Java\")\n",
    "print(z)\n",
    "print(y)"
   ]
  },
  {
   "cell_type": "code",
   "execution_count": 172,
   "metadata": {},
   "outputs": [
    {
     "name": "stdout",
     "output_type": "stream",
     "text": [
      "{1: 'Python', 3: 'ML', '1': 'Look', '3': 'Java'}\n"
     ]
    }
   ],
   "source": [
    "#pop()--Removes specified key element in the dictionary\n",
    "dict1.pop(2)\n",
    "print(dict1)"
   ]
  },
  {
   "cell_type": "code",
   "execution_count": 173,
   "metadata": {},
   "outputs": [
    {
     "name": "stdout",
     "output_type": "stream",
     "text": [
      "{1: 'Python', 3: 'ML', '1': 'Look'}\n"
     ]
    }
   ],
   "source": [
    "#popitem()--Removes last inserted key value pair of the dictionary\n",
    "dict1.popitem()\n",
    "print(dict1)"
   ]
  },
  {
   "cell_type": "code",
   "execution_count": 174,
   "metadata": {},
   "outputs": [
    {
     "name": "stdout",
     "output_type": "stream",
     "text": [
      "{}\n"
     ]
    }
   ],
   "source": [
    "#clear()--Removes all elements of the dictionary\n",
    "dict1.clear()\n",
    "print(dict1)"
   ]
  },
  {
   "cell_type": "markdown",
   "metadata": {},
   "source": [
    "# String Methods"
   ]
  },
  {
   "cell_type": "code",
   "execution_count": 179,
   "metadata": {},
   "outputs": [
    {
     "data": {
      "text/plain": [
       "'Hello..good day!'"
      ]
     },
     "execution_count": 179,
     "metadata": {},
     "output_type": "execute_result"
    }
   ],
   "source": [
    "#capitalize()--Capilatizes first letter of the string and converts others to lower case\n",
    "str_me=\"hello..Good Day!\" #Assigning a string\n",
    "str_me.capitalize()"
   ]
  },
  {
   "cell_type": "code",
   "execution_count": 180,
   "metadata": {},
   "outputs": [
    {
     "data": {
      "text/plain": [
       "'hello..! this is a sample program'"
      ]
     },
     "execution_count": 180,
     "metadata": {},
     "output_type": "execute_result"
    }
   ],
   "source": [
    "#casefold()--Converts the string to lower case\n",
    "letter=\"Hello..! This is a sample program\"\n",
    "letter.casefold()"
   ]
  },
  {
   "cell_type": "code",
   "execution_count": 184,
   "metadata": {},
   "outputs": [
    {
     "data": {
      "text/plain": [
       "'     hello..Good Day!    '"
      ]
     },
     "execution_count": 184,
     "metadata": {},
     "output_type": "execute_result"
    }
   ],
   "source": [
    "#center()--Takes up the value in the brackets for spaces and prints the string\n",
    "str_me.center(25)"
   ]
  },
  {
   "cell_type": "code",
   "execution_count": 185,
   "metadata": {},
   "outputs": [
    {
     "data": {
      "text/plain": [
       "2"
      ]
     },
     "execution_count": 185,
     "metadata": {},
     "output_type": "execute_result"
    }
   ],
   "source": [
    "#count()--Returns number of times a value is present in the given string\n",
    "str1=\"This is a Python tutorial and I welcome everyone to this tutorial.\"\n",
    "str1.count(\"tutorial\")"
   ]
  },
  {
   "cell_type": "code",
   "execution_count": 186,
   "metadata": {},
   "outputs": [
    {
     "data": {
      "text/plain": [
       "b'This is an apple'"
      ]
     },
     "execution_count": 186,
     "metadata": {},
     "output_type": "execute_result"
    }
   ],
   "source": [
    "#encode()--Returns encoded version of string\n",
    "text=\"This is an apple\"\n",
    "text.encode()"
   ]
  },
  {
   "cell_type": "code",
   "execution_count": 187,
   "metadata": {},
   "outputs": [
    {
     "data": {
      "text/plain": [
       "True"
      ]
     },
     "execution_count": 187,
     "metadata": {},
     "output_type": "execute_result"
    }
   ],
   "source": [
    "#endswith()--Returns True if the string ends with a specified value in the input\n",
    "text.endswith(\"apple\")"
   ]
  },
  {
   "cell_type": "code",
   "execution_count": 189,
   "metadata": {},
   "outputs": [
    {
     "data": {
      "text/plain": [
       "'He  ll  oo'"
      ]
     },
     "execution_count": 189,
     "metadata": {},
     "output_type": "execute_result"
    }
   ],
   "source": [
    "#expandtabs--Sets tab spaces as passed in input\n",
    "text1=\"He\\tll\\too\"\n",
    "text1.expandtabs(2)"
   ]
  },
  {
   "cell_type": "code",
   "execution_count": 195,
   "metadata": {},
   "outputs": [
    {
     "name": "stdout",
     "output_type": "stream",
     "text": [
      "6\n",
      "8\n"
     ]
    }
   ],
   "source": [
    "#find()--Searches for the mentioned value and returns it position\n",
    "tex=\"Thisisanapple\"\n",
    "text=\"This is an apple\"\n",
    "print(tex.find(\"an\"))\n",
    "print(text.find(\"an\"))"
   ]
  },
  {
   "cell_type": "code",
   "execution_count": 196,
   "metadata": {},
   "outputs": [
    {
     "name": "stdout",
     "output_type": "stream",
     "text": [
      "This is the 40.00 of this is pen!\n"
     ]
    }
   ],
   "source": [
    "#format--Formats specified values in string\n",
    "txt = \"This is the {price:.2f} of this is pen!\"\n",
    "print(txt.format(price=40))"
   ]
  },
  {
   "cell_type": "code",
   "execution_count": 199,
   "metadata": {},
   "outputs": [
    {
     "data": {
      "text/plain": [
       "8"
      ]
     },
     "execution_count": 199,
     "metadata": {},
     "output_type": "execute_result"
    }
   ],
   "source": [
    "#index--Searches the entire string and returns the index of string passed as input\n",
    "text.index(\"an\")"
   ]
  },
  {
   "cell_type": "code",
   "execution_count": 202,
   "metadata": {},
   "outputs": [
    {
     "name": "stdout",
     "output_type": "stream",
     "text": [
      "False\n",
      "True\n"
     ]
    }
   ],
   "source": [
    "#isalnum()--Returns True if the string is alphanumeric, else False\n",
    "alpha=\"This is M24\"\n",
    "print(alpha.isalnum())\n",
    "alp=\"ThisisM24\"\n",
    "print(alp.isalnum())"
   ]
  },
  {
   "cell_type": "code",
   "execution_count": 208,
   "metadata": {},
   "outputs": [
    {
     "name": "stdout",
     "output_type": "stream",
     "text": [
      "True\n",
      "False\n"
     ]
    }
   ],
   "source": [
    "#isalpha()--Returns True if the string is alphabetic, else False\n",
    "al=\"Thisisagun\"\n",
    "print(al.isalpha())\n",
    "alpp=\"This is a gun\"\n",
    "print(alpp.isalpha())"
   ]
  },
  {
   "cell_type": "code",
   "execution_count": 232,
   "metadata": {},
   "outputs": [
    {
     "name": "stdout",
     "output_type": "stream",
     "text": [
      "True\n",
      "False\n"
     ]
    }
   ],
   "source": [
    "#isdecimal()--Returns True if the string is decimal, else False\n",
    "dec=\"01234\"\n",
    "print(dec.isdecimal())\n",
    "decc=\"Hai\"\n",
    "print(decc.isdecimal())"
   ]
  },
  {
   "cell_type": "code",
   "execution_count": 233,
   "metadata": {},
   "outputs": [
    {
     "data": {
      "text/plain": [
       "True"
      ]
     },
     "execution_count": 233,
     "metadata": {},
     "output_type": "execute_result"
    }
   ],
   "source": [
    "#isdigit()--Returns True if the string is digits, else False\n",
    "dec.isdigit()"
   ]
  },
  {
   "cell_type": "code",
   "execution_count": 216,
   "metadata": {},
   "outputs": [
    {
     "name": "stdout",
     "output_type": "stream",
     "text": [
      "True\n",
      "False\n"
     ]
    }
   ],
   "source": [
    "#isidentifier()--Returns True if the string contains valid identifiers like alphabets(a-z) or underscores(_) and numbers (0-9)\n",
    "valid=\"ValidString_001\"\n",
    "print(valid.isidentifier())\n",
    "invalid=\"Invalid String\"\n",
    "print(invalid.isidentifier())"
   ]
  },
  {
   "cell_type": "code",
   "execution_count": 223,
   "metadata": {},
   "outputs": [
    {
     "name": "stdout",
     "output_type": "stream",
     "text": [
      "i am learning python\n",
      "True\n"
     ]
    }
   ],
   "source": [
    "#lower--Converts string to lowercase and #islower()--Returns True if string is completely in lowercase\n",
    "str2=\"I am Learning Python\"\n",
    "low=str2.lower()\n",
    "print(low)\n",
    "print(low.islower())"
   ]
  },
  {
   "cell_type": "code",
   "execution_count": 224,
   "metadata": {},
   "outputs": [
    {
     "name": "stdout",
     "output_type": "stream",
     "text": [
      "I AM LEARNING PYTHON DATATYPES\n",
      "True\n"
     ]
    }
   ],
   "source": [
    "#upper()--Converts string to uppercase and #isupper()--Reurns True if string is completely in uppercase\n",
    "str3=\"I am learning Python Datatypes\"\n",
    "upper=str3.upper()\n",
    "print(upper)\n",
    "print(upper.isupper())"
   ]
  },
  {
   "cell_type": "code",
   "execution_count": 229,
   "metadata": {},
   "outputs": [
    {
     "name": "stdout",
     "output_type": "stream",
     "text": [
      "False\n",
      "True\n"
     ]
    }
   ],
   "source": [
    "#isnumeric()--Returns True if string is numeric, else False\n",
    "num=\"15km2\"\n",
    "print(num.isnumeric())\n",
    "num1=\"12345098\"\n",
    "print(num1.isnumeric())"
   ]
  },
  {
   "cell_type": "code",
   "execution_count": 234,
   "metadata": {},
   "outputs": [
    {
     "name": "stdout",
     "output_type": "stream",
     "text": [
      "True\n",
      "False\n"
     ]
    }
   ],
   "source": [
    "#isprintable()--Returns True if string is printable. Not printable strings contain \\t or \\n etc.,\n",
    "printable=\"Hi..Good One!\"\n",
    "print(printable.isprintable())\n",
    "nonprintable=\"Hi..\\nGood \\tOne!\"\n",
    "print(nonprintable.isprintable())"
   ]
  },
  {
   "cell_type": "code",
   "execution_count": 235,
   "metadata": {},
   "outputs": [
    {
     "name": "stdout",
     "output_type": "stream",
     "text": [
      "True\n",
      "False\n"
     ]
    }
   ],
   "source": [
    "#issapce()--Returns True if string is whitespaced, else False\n",
    "spaced=\"   \"\n",
    "print(spaced.isspace())\n",
    "space=\"  s  \"\n",
    "print(space.isspace())"
   ]
  },
  {
   "cell_type": "code",
   "execution_count": 237,
   "metadata": {},
   "outputs": [
    {
     "name": "stdout",
     "output_type": "stream",
     "text": [
      "True\n",
      "False\n"
     ]
    }
   ],
   "source": [
    "#istitle()--Returns True if all words start with uppercase and others in lowercase\n",
    "title=\"Hi..!Good Morning\"\n",
    "print(title.istitle())\n",
    "nontitle=\"Hi..! good Morning\"\n",
    "print(nontitle.istitle())"
   ]
  },
  {
   "cell_type": "code",
   "execution_count": 240,
   "metadata": {},
   "outputs": [
    {
     "name": "stdout",
     "output_type": "stream",
     "text": [
      "Good--Better--Best\n"
     ]
    }
   ],
   "source": [
    "#join()--Joins the elements of iterable\n",
    "myTuple = (\"Good\", \"Better\", \"Best\")\n",
    "\n",
    "x = \"--\".join(myTuple)\n",
    "\n",
    "print(x)"
   ]
  },
  {
   "cell_type": "code",
   "execution_count": 247,
   "metadata": {},
   "outputs": [
    {
     "name": "stdout",
     "output_type": "stream",
     "text": [
      "Monkey     is my favorite animal\n"
     ]
    }
   ],
   "source": [
    "#ljust()--Used for spacing as specified in left direction\n",
    "txt = \"Monkey\"\n",
    "x = txt.ljust(10)\n",
    "print(x,\"is my favorite animal\")"
   ]
  },
  {
   "cell_type": "code",
   "execution_count": 251,
   "metadata": {},
   "outputs": [
    {
     "name": "stdout",
     "output_type": "stream",
     "text": [
      "The sport named Volleyball    is my fav\n"
     ]
    }
   ],
   "source": [
    "#lstrip()--Used for removing spaces to the left of the string\n",
    "strr=\"   Volleyball   \"\n",
    "z=strr.lstrip()\n",
    "print(\"The sport named\", z ,\"is my fav\")"
   ]
  },
  {
   "cell_type": "code",
   "execution_count": 254,
   "metadata": {},
   "outputs": [
    {
     "name": "stdout",
     "output_type": "stream",
     "text": [
      "('Volleyball is the game best of all and is my ', 'favourite', '')\n",
      "('Volleyball is the game ', 'best', ' of all and is my favourite')\n"
     ]
    }
   ],
   "source": [
    "#partition()--Returns a tuple where the string is partioned into 3 parts\n",
    "part=\"Volleyball is the game best of all and is my favourite\"\n",
    "x=part.partition(\"favourite\")\n",
    "print(x)\n",
    "y=part.partition(\"best\")\n",
    "print(y)"
   ]
  },
  {
   "cell_type": "code",
   "execution_count": 255,
   "metadata": {},
   "outputs": [
    {
     "name": "stdout",
     "output_type": "stream",
     "text": [
      "Game is love is Volleyball\n"
     ]
    }
   ],
   "source": [
    "#replace()--Replaces a string with other\n",
    "str4=\"Game is love is Cricket\"\n",
    "z=str4.replace(\"Cricket\",\"Volleyball\")\n",
    "print(z)"
   ]
  },
  {
   "cell_type": "code",
   "execution_count": 256,
   "metadata": {},
   "outputs": [
    {
     "name": "stdout",
     "output_type": "stream",
     "text": [
      "26\n"
     ]
    }
   ],
   "source": [
    "#rfind()--Searches the string and returns the last position of the string passed as input\n",
    "text=\"Volleyball is a sport and sport is good for health\"\n",
    "z=text.rfind(\"sport\")\n",
    "print(z)"
   ]
  },
  {
   "cell_type": "code",
   "execution_count": 257,
   "metadata": {},
   "outputs": [
    {
     "name": "stdout",
     "output_type": "stream",
     "text": [
      "26\n"
     ]
    }
   ],
   "source": [
    "#rindex()--Searches the string and returns the index of last position of the string passed as input\n",
    "text=\"Volleyball is a sport and sport is good for health\"\n",
    "z=text.rindex(\"sport\")\n",
    "print(z)"
   ]
  },
  {
   "cell_type": "code",
   "execution_count": 258,
   "metadata": {},
   "outputs": [
    {
     "name": "stdout",
     "output_type": "stream",
     "text": [
      "    Monkey is my favorite animal\n"
     ]
    }
   ],
   "source": [
    "#rjust()--Used for spacing as specified in right direction\n",
    "txt = \"Monkey\"\n",
    "x = txt.rjust(10)\n",
    "print(x,\"is my favorite animal\")"
   ]
  },
  {
   "cell_type": "code",
   "execution_count": 260,
   "metadata": {},
   "outputs": [
    {
     "name": "stdout",
     "output_type": "stream",
     "text": [
      "('Volleyball is my ', 'favourite', ' game')\n"
     ]
    }
   ],
   "source": [
    "#rpartition()--Returns a tuple where the string is partioned into 3 parts\n",
    "part=\"Volleyball is my favourite game\"\n",
    "x=part.rpartition(\"favourite\")\n",
    "print(x)"
   ]
  },
  {
   "cell_type": "code",
   "execution_count": 270,
   "metadata": {},
   "outputs": [
    {
     "name": "stdout",
     "output_type": "stream",
     "text": [
      "['apple', 'banana', 'cherry']\n"
     ]
    }
   ],
   "source": [
    "#rsplit()--Splits the string as per input separator\n",
    "txt=\"apple,banana,cherry\"\n",
    "z=txt.rsplit(\",\")\n",
    "print(z)"
   ]
  },
  {
   "cell_type": "code",
   "execution_count": 271,
   "metadata": {},
   "outputs": [
    {
     "name": "stdout",
     "output_type": "stream",
     "text": [
      "The sport named    Volleyball is my fav\n"
     ]
    }
   ],
   "source": [
    "#rstrip()--Used for removing spaces to the right of the string\n",
    "strr=\"   Volleyball   \"\n",
    "z=strr.rstrip()\n",
    "print(\"The sport named\", z ,\"is my fav\")"
   ]
  },
  {
   "cell_type": "code",
   "execution_count": 272,
   "metadata": {},
   "outputs": [
    {
     "name": "stdout",
     "output_type": "stream",
     "text": [
      "['Welcome', 'to', 'Python']\n"
     ]
    }
   ],
   "source": [
    "#split()--Splits the string and returns a list\n",
    "txt=\"Welcome to Python\"\n",
    "z=txt.split()\n",
    "print(z)"
   ]
  },
  {
   "cell_type": "code",
   "execution_count": 273,
   "metadata": {},
   "outputs": [
    {
     "name": "stdout",
     "output_type": "stream",
     "text": [
      "['Welcome to Python', ' It is very interesting']\n"
     ]
    }
   ],
   "source": [
    "#splitlines()--Splits string at linebreaks and returns a list\n",
    "txt=\"Welcome to Python\\n It is very interesting\"\n",
    "z=txt.splitlines()\n",
    "print(z)"
   ]
  },
  {
   "cell_type": "code",
   "execution_count": 274,
   "metadata": {},
   "outputs": [
    {
     "name": "stdout",
     "output_type": "stream",
     "text": [
      "The sport named Volleyball is my fav\n"
     ]
    }
   ],
   "source": [
    "#strip()--Used for removing spaces both left and right of string\n",
    "strr=\"   Volleyball   \"\n",
    "z=strr.strip()\n",
    "print(\"The sport named\", z ,\"is my fav\")"
   ]
  },
  {
   "cell_type": "code",
   "execution_count": 276,
   "metadata": {},
   "outputs": [
    {
     "name": "stdout",
     "output_type": "stream",
     "text": [
      "True\n",
      "False\n"
     ]
    }
   ],
   "source": [
    "#startswith()--Returns True if the string starts with specified value \n",
    "txt=\"Volleyball is a good sport\"\n",
    "print(txt.startswith(\"Volleyball\"))\n",
    "print(txt.startswith(\"volleyball\"))   #Python is case-sensitive"
   ]
  },
  {
   "cell_type": "code",
   "execution_count": 278,
   "metadata": {},
   "outputs": [
    {
     "data": {
      "text/plain": [
       "'vOLLEYbALL IS A gOOD sPORT'"
      ]
     },
     "execution_count": 278,
     "metadata": {},
     "output_type": "execute_result"
    }
   ],
   "source": [
    "#swapcase()--Switch cases upper to lower and viceversa\n",
    "txt=\"VolleyBall is a Good Sport\"\n",
    "txt.swapcase()"
   ]
  },
  {
   "cell_type": "code",
   "execution_count": 279,
   "metadata": {},
   "outputs": [
    {
     "data": {
      "text/plain": [
       "'Volleyball Is A Good Sport'"
      ]
     },
     "execution_count": 279,
     "metadata": {},
     "output_type": "execute_result"
    }
   ],
   "source": [
    "#title()--Makes the first letter of each string to uppercase\n",
    "txt=\"volleyball is a good sport\"\n",
    "txt.title()"
   ]
  },
  {
   "cell_type": "code",
   "execution_count": 288,
   "metadata": {},
   "outputs": [
    {
     "name": "stdout",
     "output_type": "stream",
     "text": [
      "000000000000050 is also denoted as fifty\n"
     ]
    }
   ],
   "source": [
    "#zfill()--Fills with 0 until it reaches the specified length passed in input\n",
    "txt=\"50 is also denoted as fifty\"\n",
    "z=txt.zfill(40)\n",
    "print(z)"
   ]
  }
 ],
 "metadata": {
  "kernelspec": {
   "display_name": "Python 3",
   "language": "python",
   "name": "python3"
  },
  "language_info": {
   "codemirror_mode": {
    "name": "ipython",
    "version": 3
   },
   "file_extension": ".py",
   "mimetype": "text/x-python",
   "name": "python",
   "nbconvert_exporter": "python",
   "pygments_lexer": "ipython3",
   "version": "3.7.6"
  }
 },
 "nbformat": 4,
 "nbformat_minor": 4
}
