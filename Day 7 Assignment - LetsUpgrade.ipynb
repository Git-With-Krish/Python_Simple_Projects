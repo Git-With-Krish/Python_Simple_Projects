{
 "cells": [
  {
   "cell_type": "markdown",
   "metadata": {},
   "source": [
    "# Assignment 1: Fibonacci Series using Decorators"
   ]
  },
  {
   "cell_type": "code",
   "execution_count": 5,
   "metadata": {},
   "outputs": [],
   "source": [
    "#This is Fuction-1 which is to be used as reference or wrapper for fuction-2 \n",
    "#This is the Decorator Program\n",
    "\n",
    "def functionforFibSeries(inputvalueforfn2):\n",
    "    print(\"Decorater Program called successfully..!\")\n",
    "    \n",
    "    def input_value():        \n",
    "        input_range=int(input(\"Range is:\"))\n",
    "        inputvalueforfn2(input_range)\n",
    "    return input_value()"
   ]
  },
  {
   "cell_type": "code",
   "execution_count": 6,
   "metadata": {},
   "outputs": [
    {
     "name": "stdout",
     "output_type": "stream",
     "text": [
      "Decorater Program called successfully..!\n",
      "Range is:6\n",
      "The requested series for range 6 is:\n",
      "0\n",
      "1\n",
      "1\n",
      "2\n",
      "3\n",
      "5\n"
     ]
    }
   ],
   "source": [
    "@functionforFibSeries   #Calling the reference/wrapper fuction\n",
    "\n",
    "def Fibonnacci(x):    #Fuction-2 which uses and implements the reference/wrapper function\n",
    "    \n",
    "    first_num = 0\n",
    "    second_num = 1\n",
    "    \n",
    "    if x <= first_num:     # x = input_range\n",
    "        print(\"The requested series is:\",first_num)\n",
    "    \n",
    "    else:\n",
    "        print(\"The requested series for range {} is:\".format(x))\n",
    "        print(first_num)\n",
    "        print(second_num)\n",
    "\n",
    "    for i in range (2,x):   #1,1,2,3,5,8\n",
    "        next_num = first_num + second_num\n",
    "        print(next_num)\n",
    "        first_num = second_num\n",
    "        second_num = next_num"
   ]
  }
 ],
 "metadata": {
  "kernelspec": {
   "display_name": "Python 3",
   "language": "python",
   "name": "python3"
  },
  "language_info": {
   "codemirror_mode": {
    "name": "ipython",
    "version": 3
   },
   "file_extension": ".py",
   "mimetype": "text/x-python",
   "name": "python",
   "nbconvert_exporter": "python",
   "pygments_lexer": "ipython3",
   "version": "3.7.6"
  }
 },
 "nbformat": 4,
 "nbformat_minor": 4
}
