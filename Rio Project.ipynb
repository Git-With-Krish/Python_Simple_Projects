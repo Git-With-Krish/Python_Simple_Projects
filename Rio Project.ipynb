{
 "cells": [
  {
   "cell_type": "markdown",
   "metadata": {},
   "source": [
    "# Coding Section"
   ]
  },
  {
   "cell_type": "code",
   "execution_count": 1,
   "metadata": {},
   "outputs": [
    {
     "name": "stdout",
     "output_type": "stream",
     "text": [
      "\"C~)}Mw/0+\n"
     ]
    }
   ],
   "source": [
    "#Help Rio to generate random password--By LetsUpgrade\n",
    "\n",
    "import string\n",
    "import random\n",
    "\n",
    "\n",
    "def passwordCreation():\n",
    "    stringLength = 10\n",
    "    passwordType = string.ascii_letters + string.digits + string.punctuation\n",
    "    password = random.sample(passwordType, stringLength)\n",
    "    return ''.join(password)\n",
    "\n",
    "\n",
    "print(passwordCreation())"
   ]
  },
  {
   "cell_type": "markdown",
   "metadata": {},
   "source": [
    "# Logic Implemented"
   ]
  },
  {
   "cell_type": "markdown",
   "metadata": {},
   "source": [
    "I have used random.sample() to generate values without repetition and as per the input passed to it. Also,\n",
    "string module has various in built methods by which I have used lowercase and uppercase letters(string.ascii_letters),\n",
    "for digits (string.digits) and for symbols(string.punctuation). With these i have generated a random password of length 10."
   ]
  }
 ],
 "metadata": {
  "kernelspec": {
   "display_name": "Python 3",
   "language": "python",
   "name": "python3"
  },
  "language_info": {
   "codemirror_mode": {
    "name": "ipython",
    "version": 3
   },
   "file_extension": ".py",
   "mimetype": "text/x-python",
   "name": "python",
   "nbconvert_exporter": "python",
   "pygments_lexer": "ipython3",
   "version": "3.7.6"
  }
 },
 "nbformat": 4,
 "nbformat_minor": 4
}
